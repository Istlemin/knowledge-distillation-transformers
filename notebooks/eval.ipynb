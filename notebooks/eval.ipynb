{
 "cells": [
  {
   "cell_type": "code",
   "execution_count": 3,
   "metadata": {},
   "outputs": [],
   "source": [
    "import glob\n",
    "import torch\n",
    "\n",
    "from model import load_untrained_bert_base\n",
    "from dataset_loading import load_tokenized_dataset, load_glue_sentence_classification\n",
    "from finetune import run_epoch\n",
    "from pathlib import Path"
   ]
  },
  {
   "cell_type": "code",
   "execution_count": 4,
   "metadata": {},
   "outputs": [],
   "source": [
    "dataset = load_tokenized_dataset(\n",
    "    Path(\"../../GLUE-baselines/glue_data/SST-2/\"),\n",
    "    load_glue_sentence_classification\n",
    ")"
   ]
  },
  {
   "cell_type": "code",
   "execution_count": 8,
   "metadata": {},
   "outputs": [],
   "source": [
    "from transformers import AutoModelForSequenceClassification\n",
    "from model import get_bert_config\n",
    "\n",
    "def print_checkpoints(path):\n",
    "    checkpoints = sorted(glob.glob(str(path) + \"*\"))\n",
    "    for path in checkpoints:\n",
    "        checkpoint = torch.load(path)\n",
    "        print(f\"Epoch {checkpoint['epochs']}:\")\n",
    "        print(\"Train loss:\",checkpoint[\"train_loss\"], \"\\t\\tTrain accuracy:\",checkpoint[\"train_accuracy\"])\n",
    "        print(\"Test loss:\",checkpoint[\"test_loss\"], \"\\t\\tTest accuracy:\",checkpoint[\"test_accuracy\"])\n",
    "\n",
    "        print(checkpoint[\"optimizer_state_dict\"][\"param_groups\"][0][\"lr\"])\n",
    "\n",
    "        # if checkpoint['epochs']==3:\n",
    "        #     model = AutoModelForSequenceClassification.from_config(get_bert_config(\"base\"))\n",
    "\n",
    "        #     #print(checkpoint[\"model_state_dict\"].keys())\n",
    "        #     model.load_state_dict(checkpoint[\"model_state_dict\"])\n",
    "\n",
    "        #     torch.save(model,\"../../models/finetuned_bert_base_ss2_92.4%.pt\")\n",
    "        "
   ]
  },
  {
   "cell_type": "code",
   "execution_count": 9,
   "metadata": {},
   "outputs": [
    {
     "name": "stdout",
     "output_type": "stream",
     "text": [
      "Epoch 1:\n",
      "Train loss: tensor(0.0626) \t\tTrain accuracy: tensor(0.5513, device='cuda:0')\n",
      "Test loss: tensor(0.0341) \t\tTest accuracy: tensor(0.5367, device='cuda:0')\n",
      "2e-05\n",
      "Epoch 2:\n",
      "Train loss: tensor(0.0520) \t\tTrain accuracy: tensor(0.5552, device='cuda:0')\n",
      "Test loss: tensor(0.0312) \t\tTest accuracy: tensor(0.5367, device='cuda:0')\n",
      "2e-05\n",
      "Epoch 3:\n",
      "Train loss: tensor(0.0498) \t\tTrain accuracy: tensor(0.5552, device='cuda:0')\n",
      "Test loss: tensor(0.0296) \t\tTest accuracy: tensor(0.5367, device='cuda:0')\n",
      "2e-05\n",
      "Epoch 4:\n",
      "Train loss: tensor(0.0484) \t\tTrain accuracy: tensor(0.5552, device='cuda:0')\n",
      "Test loss: tensor(0.0281) \t\tTest accuracy: tensor(0.5367, device='cuda:0')\n",
      "2e-05\n",
      "Epoch 5:\n",
      "Train loss: tensor(0.0474) \t\tTrain accuracy: tensor(0.6446, device='cuda:0')\n",
      "Test loss: tensor(0.0269) \t\tTest accuracy: tensor(0.7477, device='cuda:0')\n",
      "2e-05\n",
      "Epoch 6:\n",
      "Train loss: tensor(0.0467) \t\tTrain accuracy: tensor(0.8437, device='cuda:0')\n",
      "Test loss: tensor(0.0260) \t\tTest accuracy: tensor(0.7569, device='cuda:0')\n",
      "2e-05\n",
      "Epoch 7:\n",
      "Train loss: tensor(0.0461) \t\tTrain accuracy: tensor(0.8754, device='cuda:0')\n",
      "Test loss: tensor(0.0250) \t\tTest accuracy: tensor(0.7615, device='cuda:0')\n",
      "2e-05\n",
      "Epoch 8:\n",
      "Train loss: tensor(0.0456) \t\tTrain accuracy: tensor(0.8849, device='cuda:0')\n",
      "Test loss: tensor(0.0241) \t\tTest accuracy: tensor(0.7798, device='cuda:0')\n",
      "2e-05\n",
      "Epoch 9:\n",
      "Train loss: tensor(0.0451) \t\tTrain accuracy: tensor(0.8911, device='cuda:0')\n",
      "Test loss: tensor(0.0234) \t\tTest accuracy: tensor(0.7936, device='cuda:0')\n",
      "2e-05\n",
      "Epoch 10:\n",
      "Train loss: tensor(0.0448) \t\tTrain accuracy: tensor(0.8943, device='cuda:0')\n",
      "Test loss: tensor(0.0229) \t\tTest accuracy: tensor(0.8028, device='cuda:0')\n",
      "2e-05\n"
     ]
    },
    {
     "ename": "RuntimeError",
     "evalue": "PytorchStreamReader failed reading zip archive: failed finding central directory",
     "output_type": "error",
     "traceback": [
      "\u001b[0;31m---------------------------------------------------------------------------\u001b[0m",
      "\u001b[0;31mRuntimeError\u001b[0m                              Traceback (most recent call last)",
      "Cell \u001b[0;32mIn [9], line 1\u001b[0m\n\u001b[0;32m----> 1\u001b[0m print_checkpoints(\u001b[39m\"\u001b[39;49m\u001b[39m../../checkpoints/kd_finetune_notpretrained/\u001b[39;49m\u001b[39m\"\u001b[39;49m)\n",
      "Cell \u001b[0;32mIn [8], line 7\u001b[0m, in \u001b[0;36mprint_checkpoints\u001b[0;34m(path)\u001b[0m\n\u001b[1;32m      5\u001b[0m checkpoints \u001b[39m=\u001b[39m \u001b[39msorted\u001b[39m(glob\u001b[39m.\u001b[39mglob(\u001b[39mstr\u001b[39m(path) \u001b[39m+\u001b[39m \u001b[39m\"\u001b[39m\u001b[39m*\u001b[39m\u001b[39m\"\u001b[39m))\n\u001b[1;32m      6\u001b[0m \u001b[39mfor\u001b[39;00m path \u001b[39min\u001b[39;00m checkpoints:\n\u001b[0;32m----> 7\u001b[0m     checkpoint \u001b[39m=\u001b[39m torch\u001b[39m.\u001b[39;49mload(path)\n\u001b[1;32m      8\u001b[0m     \u001b[39mprint\u001b[39m(\u001b[39mf\u001b[39m\u001b[39m\"\u001b[39m\u001b[39mEpoch \u001b[39m\u001b[39m{\u001b[39;00mcheckpoint[\u001b[39m'\u001b[39m\u001b[39mepochs\u001b[39m\u001b[39m'\u001b[39m]\u001b[39m}\u001b[39;00m\u001b[39m:\u001b[39m\u001b[39m\"\u001b[39m)\n\u001b[1;32m      9\u001b[0m     \u001b[39mprint\u001b[39m(\u001b[39m\"\u001b[39m\u001b[39mTrain loss:\u001b[39m\u001b[39m\"\u001b[39m,checkpoint[\u001b[39m\"\u001b[39m\u001b[39mtrain_loss\u001b[39m\u001b[39m\"\u001b[39m], \u001b[39m\"\u001b[39m\u001b[39m\\t\u001b[39;00m\u001b[39m\\t\u001b[39;00m\u001b[39mTrain accuracy:\u001b[39m\u001b[39m\"\u001b[39m,checkpoint[\u001b[39m\"\u001b[39m\u001b[39mtrain_accuracy\u001b[39m\u001b[39m\"\u001b[39m])\n",
      "File \u001b[0;32m/local/scratch-3/fwe21/miniconda3/envs/torch/lib/python3.9/site-packages/torch/serialization.py:777\u001b[0m, in \u001b[0;36mload\u001b[0;34m(f, map_location, pickle_module, weights_only, **pickle_load_args)\u001b[0m\n\u001b[1;32m    772\u001b[0m \u001b[39mif\u001b[39;00m _is_zipfile(opened_file):\n\u001b[1;32m    773\u001b[0m     \u001b[39m# The zipfile reader is going to advance the current file position.\u001b[39;00m\n\u001b[1;32m    774\u001b[0m     \u001b[39m# If we want to actually tail call to torch.jit.load, we need to\u001b[39;00m\n\u001b[1;32m    775\u001b[0m     \u001b[39m# reset back to the original position.\u001b[39;00m\n\u001b[1;32m    776\u001b[0m     orig_position \u001b[39m=\u001b[39m opened_file\u001b[39m.\u001b[39mtell()\n\u001b[0;32m--> 777\u001b[0m     \u001b[39mwith\u001b[39;00m _open_zipfile_reader(opened_file) \u001b[39mas\u001b[39;00m opened_zipfile:\n\u001b[1;32m    778\u001b[0m         \u001b[39mif\u001b[39;00m _is_torchscript_zip(opened_zipfile):\n\u001b[1;32m    779\u001b[0m             warnings\u001b[39m.\u001b[39mwarn(\u001b[39m\"\u001b[39m\u001b[39m'\u001b[39m\u001b[39mtorch.load\u001b[39m\u001b[39m'\u001b[39m\u001b[39m received a zip file that looks like a TorchScript archive\u001b[39m\u001b[39m\"\u001b[39m\n\u001b[1;32m    780\u001b[0m                           \u001b[39m\"\u001b[39m\u001b[39m dispatching to \u001b[39m\u001b[39m'\u001b[39m\u001b[39mtorch.jit.load\u001b[39m\u001b[39m'\u001b[39m\u001b[39m (call \u001b[39m\u001b[39m'\u001b[39m\u001b[39mtorch.jit.load\u001b[39m\u001b[39m'\u001b[39m\u001b[39m directly to\u001b[39m\u001b[39m\"\u001b[39m\n\u001b[1;32m    781\u001b[0m                           \u001b[39m\"\u001b[39m\u001b[39m silence this warning)\u001b[39m\u001b[39m\"\u001b[39m, \u001b[39mUserWarning\u001b[39;00m)\n",
      "File \u001b[0;32m/local/scratch-3/fwe21/miniconda3/envs/torch/lib/python3.9/site-packages/torch/serialization.py:282\u001b[0m, in \u001b[0;36m_open_zipfile_reader.__init__\u001b[0;34m(self, name_or_buffer)\u001b[0m\n\u001b[1;32m    281\u001b[0m \u001b[39mdef\u001b[39;00m \u001b[39m__init__\u001b[39m(\u001b[39mself\u001b[39m, name_or_buffer) \u001b[39m-\u001b[39m\u001b[39m>\u001b[39m \u001b[39mNone\u001b[39;00m:\n\u001b[0;32m--> 282\u001b[0m     \u001b[39msuper\u001b[39m(_open_zipfile_reader, \u001b[39mself\u001b[39m)\u001b[39m.\u001b[39m\u001b[39m__init__\u001b[39m(torch\u001b[39m.\u001b[39;49m_C\u001b[39m.\u001b[39;49mPyTorchFileReader(name_or_buffer))\n",
      "\u001b[0;31mRuntimeError\u001b[0m: PytorchStreamReader failed reading zip archive: failed finding central directory"
     ]
    },
    {
     "ename": "",
     "evalue": "",
     "output_type": "error",
     "traceback": [
      "\u001b[1;31mThe Kernel crashed while executing code in the the current cell or a previous cell. Please review the code in the cell(s) to identify a possible cause of the failure. Click <a href='https://aka.ms/vscodeJupyterKernelCrash'>here</a> for more info. View Jupyter <a href='command:jupyter.viewOutput'>log</a> for further details."
     ]
    }
   ],
   "source": [
    "print_checkpoints(\"../../checkpoints/kd_finetune_notpretrained/\")"
   ]
  },
  {
   "cell_type": "code",
   "execution_count": null,
   "metadata": {},
   "outputs": [],
   "source": []
  },
  {
   "cell_type": "code",
   "execution_count": null,
   "metadata": {},
   "outputs": [],
   "source": []
  }
 ],
 "metadata": {
  "kernelspec": {
   "display_name": "Python 3.9.13 ('torch')",
   "language": "python",
   "name": "python3"
  },
  "language_info": {
   "codemirror_mode": {
    "name": "ipython",
    "version": 3
   },
   "file_extension": ".py",
   "mimetype": "text/x-python",
   "name": "python",
   "nbconvert_exporter": "python",
   "pygments_lexer": "ipython3",
   "version": "3.9.13"
  },
  "orig_nbformat": 4,
  "vscode": {
   "interpreter": {
    "hash": "ab29bdd578247210423fe399e48aecd0ef8b6f86b36785b7520d6025e6beafbf"
   }
  }
 },
 "nbformat": 4,
 "nbformat_minor": 2
}
