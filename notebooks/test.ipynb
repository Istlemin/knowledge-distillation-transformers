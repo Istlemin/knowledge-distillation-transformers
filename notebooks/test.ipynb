{
 "cells": [
  {
   "cell_type": "code",
   "execution_count": 1,
   "metadata": {},
   "outputs": [
    {
     "name": "stderr",
     "output_type": "stream",
     "text": [
      "/local/scratch-3/fwe21/miniconda3/envs/torch/lib/python3.9/site-packages/tqdm/auto.py:22: TqdmWarning: IProgress not found. Please update jupyter and ipywidgets. See https://ipywidgets.readthedocs.io/en/stable/user_install.html\n",
      "  from .autonotebook import tqdm as notebook_tqdm\n"
     ]
    }
   ],
   "source": [
    "from multiprocessing import Process, Queue\n",
    "import multiprocessing\n",
    "from pathos.multiprocessing import Pool\n",
    "from datasets.arrow_dataset import Dataset\n",
    "from transformers import PreTrainedTokenizer\n",
    "from typing import List, Dict\n",
    "import torch\n",
    "import random\n",
    "import tqdm\n",
    "import glob\n",
    "from pathlib import Path\n",
    "from datasets import concatenate_datasets\n",
    "from transformers import AutoTokenizer\n",
    "from model import load_pretrained_bert_base"
   ]
  },
  {
   "cell_type": "code",
   "execution_count": 5,
   "metadata": {},
   "outputs": [
    {
     "ename": "TypeError",
     "evalue": "'odict_items' object is not a mapping",
     "output_type": "error",
     "traceback": [
      "\u001b[0;31m---------------------------------------------------------------------------\u001b[0m",
      "\u001b[0;31mTypeError\u001b[0m                                 Traceback (most recent call last)",
      "Cell \u001b[0;32mIn [5], line 2\u001b[0m\n\u001b[1;32m      1\u001b[0m statedict \u001b[39m=\u001b[39m torch\u001b[39m.\u001b[39mload(\u001b[39m\"\u001b[39m\u001b[39m../../models/general_tinybert.pt\u001b[39m\u001b[39m\"\u001b[39m)\n\u001b[0;32m----> 2\u001b[0m {\u001b[39m*\u001b[39m\u001b[39m*\u001b[39mstatedict\u001b[39m.\u001b[39mitems()}\n",
      "\u001b[0;31mTypeError\u001b[0m: 'odict_items' object is not a mapping"
     ]
    }
   ],
   "source": [
    "statedict = torch.load(\"../../models/general_tinybert.pt\")\n"
   ]
  },
  {
   "cell_type": "code",
   "execution_count": 9,
   "metadata": {},
   "outputs": [
    {
     "ename": "RuntimeError",
     "evalue": "Error(s) in loading state_dict for BertForSequenceClassification:\n\tMissing key(s) in state_dict: \"bert.embeddings.position_ids\", \"classifier.weight\", \"classifier.bias\". \n\tUnexpected key(s) in state_dict: \"cls.predictions.bias\", \"cls.predictions.transform.dense.weight\", \"cls.predictions.transform.dense.bias\", \"cls.predictions.transform.LayerNorm.weight\", \"cls.predictions.transform.LayerNorm.bias\", \"cls.predictions.decoder.weight\", \"cls.seq_relationship.weight\", \"cls.seq_relationship.bias\", \"fit_denses.0.weight\", \"fit_denses.0.bias\", \"fit_denses.1.weight\", \"fit_denses.1.bias\", \"fit_denses.2.weight\", \"fit_denses.2.bias\", \"fit_denses.3.weight\", \"fit_denses.3.bias\", \"fit_denses.4.weight\", \"fit_denses.4.bias\". ",
     "output_type": "error",
     "traceback": [
      "\u001b[0;31m---------------------------------------------------------------------------\u001b[0m",
      "\u001b[0;31mRuntimeError\u001b[0m                              Traceback (most recent call last)",
      "Cell \u001b[0;32mIn [9], line 4\u001b[0m\n\u001b[1;32m      2\u001b[0m \u001b[39mfrom\u001b[39;00m \u001b[39mmodel\u001b[39;00m \u001b[39mimport\u001b[39;00m get_bert_config\n\u001b[1;32m      3\u001b[0m model \u001b[39m=\u001b[39m AutoModelForSequenceClassification\u001b[39m.\u001b[39mfrom_config(get_bert_config(\u001b[39m\"\u001b[39m\u001b[39mtiny\u001b[39m\u001b[39m\"\u001b[39m))\n\u001b[0;32m----> 4\u001b[0m model\u001b[39m.\u001b[39;49mload_state_dict(\u001b[39mdict\u001b[39;49m(statedict))\n",
      "File \u001b[0;32m/local/scratch-3/fwe21/miniconda3/envs/torch/lib/python3.9/site-packages/torch/nn/modules/module.py:1667\u001b[0m, in \u001b[0;36mModule.load_state_dict\u001b[0;34m(self, state_dict, strict)\u001b[0m\n\u001b[1;32m   1662\u001b[0m         error_msgs\u001b[39m.\u001b[39minsert(\n\u001b[1;32m   1663\u001b[0m             \u001b[39m0\u001b[39m, \u001b[39m'\u001b[39m\u001b[39mMissing key(s) in state_dict: \u001b[39m\u001b[39m{}\u001b[39;00m\u001b[39m. \u001b[39m\u001b[39m'\u001b[39m\u001b[39m.\u001b[39mformat(\n\u001b[1;32m   1664\u001b[0m                 \u001b[39m'\u001b[39m\u001b[39m, \u001b[39m\u001b[39m'\u001b[39m\u001b[39m.\u001b[39mjoin(\u001b[39m'\u001b[39m\u001b[39m\"\u001b[39m\u001b[39m{}\u001b[39;00m\u001b[39m\"\u001b[39m\u001b[39m'\u001b[39m\u001b[39m.\u001b[39mformat(k) \u001b[39mfor\u001b[39;00m k \u001b[39min\u001b[39;00m missing_keys)))\n\u001b[1;32m   1666\u001b[0m \u001b[39mif\u001b[39;00m \u001b[39mlen\u001b[39m(error_msgs) \u001b[39m>\u001b[39m \u001b[39m0\u001b[39m:\n\u001b[0;32m-> 1667\u001b[0m     \u001b[39mraise\u001b[39;00m \u001b[39mRuntimeError\u001b[39;00m(\u001b[39m'\u001b[39m\u001b[39mError(s) in loading state_dict for \u001b[39m\u001b[39m{}\u001b[39;00m\u001b[39m:\u001b[39m\u001b[39m\\n\u001b[39;00m\u001b[39m\\t\u001b[39;00m\u001b[39m{}\u001b[39;00m\u001b[39m'\u001b[39m\u001b[39m.\u001b[39mformat(\n\u001b[1;32m   1668\u001b[0m                        \u001b[39mself\u001b[39m\u001b[39m.\u001b[39m\u001b[39m__class__\u001b[39m\u001b[39m.\u001b[39m\u001b[39m__name__\u001b[39m, \u001b[39m\"\u001b[39m\u001b[39m\\n\u001b[39;00m\u001b[39m\\t\u001b[39;00m\u001b[39m\"\u001b[39m\u001b[39m.\u001b[39mjoin(error_msgs)))\n\u001b[1;32m   1669\u001b[0m \u001b[39mreturn\u001b[39;00m _IncompatibleKeys(missing_keys, unexpected_keys)\n",
      "\u001b[0;31mRuntimeError\u001b[0m: Error(s) in loading state_dict for BertForSequenceClassification:\n\tMissing key(s) in state_dict: \"bert.embeddings.position_ids\", \"classifier.weight\", \"classifier.bias\". \n\tUnexpected key(s) in state_dict: \"cls.predictions.bias\", \"cls.predictions.transform.dense.weight\", \"cls.predictions.transform.dense.bias\", \"cls.predictions.transform.LayerNorm.weight\", \"cls.predictions.transform.LayerNorm.bias\", \"cls.predictions.decoder.weight\", \"cls.seq_relationship.weight\", \"cls.seq_relationship.bias\", \"fit_denses.0.weight\", \"fit_denses.0.bias\", \"fit_denses.1.weight\", \"fit_denses.1.bias\", \"fit_denses.2.weight\", \"fit_denses.2.bias\", \"fit_denses.3.weight\", \"fit_denses.3.bias\", \"fit_denses.4.weight\", \"fit_denses.4.bias\". "
     ]
    }
   ],
   "source": [
    "from transformers import AutoModelForSequenceClassification\n",
    "from model import get_bert_config\n",
    "model = AutoModelForSequenceClassification.from_config(get_bert_config(\"tiny\"))\n",
    "model.load_state_dict(dict(statedict))"
   ]
  },
  {
   "cell_type": "code",
   "execution_count": 3,
   "metadata": {},
   "outputs": [
    {
     "name": "stderr",
     "output_type": "stream",
     "text": [
      "Some weights of the model checkpoint at bert-base-uncased were not used when initializing BertForSequenceClassification: ['cls.predictions.transform.dense.bias', 'cls.predictions.decoder.weight', 'cls.seq_relationship.bias', 'cls.seq_relationship.weight', 'cls.predictions.bias', 'cls.predictions.transform.dense.weight', 'cls.predictions.transform.LayerNorm.bias', 'cls.predictions.transform.LayerNorm.weight']\n",
      "- This IS expected if you are initializing BertForSequenceClassification from the checkpoint of a model trained on another task or with another architecture (e.g. initializing a BertForSequenceClassification model from a BertForPreTraining model).\n",
      "- This IS NOT expected if you are initializing BertForSequenceClassification from the checkpoint of a model that you expect to be exactly identical (initializing a BertForSequenceClassification model from a BertForSequenceClassification model).\n",
      "Some weights of BertForSequenceClassification were not initialized from the model checkpoint at bert-base-uncased and are newly initialized: ['classifier.weight', 'classifier.bias']\n",
      "You should probably TRAIN this model on a down-stream task to be able to use it for predictions and inference.\n"
     ]
    }
   ],
   "source": [
    "model = load_pretrained_bert_base()"
   ]
  },
  {
   "cell_type": "code",
   "execution_count": 11,
   "metadata": {},
   "outputs": [
    {
     "data": {
      "text/plain": [
       "torch.Size([1, 12, 14, 14])"
      ]
     },
     "execution_count": 11,
     "metadata": {},
     "output_type": "execute_result"
    }
   ],
   "source": [
    "model(\n",
    "    torch.tensor([[0,1,2,3,5,5,5,5,5,5,5,5,5,5,]]),\n",
    "    return_dict=True,\n",
    "    output_hidden_states=True,\n",
    "    output_attentions=True,\n",
    ").attentions[0].shape"
   ]
  },
  {
   "cell_type": "code",
   "execution_count": 9,
   "metadata": {},
   "outputs": [
    {
     "data": {
      "text/plain": [
       "'to was he'"
      ]
     },
     "execution_count": 9,
     "metadata": {},
     "output_type": "execute_result"
    }
   ],
   "source": [
    "tokenizer = AutoTokenizer.from_pretrained(\"bert-base-uncased\")\n",
    "tokenizer.decode([2000,2001,2002])"
   ]
  },
  {
   "cell_type": "code",
   "execution_count": null,
   "metadata": {},
   "outputs": [],
   "source": [
    "\n",
    "mlm_dataset_path = Path(\"../../wikipedia_mlm/\")\n",
    "\n",
    "datasets = [\n",
    "    Dataset.load_from_disk(path)\n",
    "    for path in sorted(glob.glob(str(mlm_dataset_path / \"*\")))\n",
    "]"
   ]
  },
  {
   "cell_type": "code",
   "execution_count": 1,
   "metadata": {},
   "outputs": [
    {
     "name": "stderr",
     "output_type": "stream",
     "text": [
      "/local/scratch-3/fwe21/miniconda3/envs/torch/lib/python3.9/site-packages/tqdm/auto.py:22: TqdmWarning: IProgress not found. Please update jupyter and ipywidgets. See https://ipywidgets.readthedocs.io/en/stable/user_install.html\n",
      "  from .autonotebook import tqdm as notebook_tqdm\n"
     ]
    },
    {
     "data": {
      "text/plain": [
       "tensor(2)"
      ]
     },
     "execution_count": 1,
     "metadata": {},
     "output_type": "execute_result"
    }
   ],
   "source": [
    "import torch\n",
    "\n",
    "torch.argmax(torch.tensor([0,0,0]))"
   ]
  },
  {
   "cell_type": "code",
   "execution_count": 7,
   "metadata": {},
   "outputs": [
    {
     "data": {
      "text/plain": [
       "[Dataset({\n",
       "     features: ['tokens', 'masked_tokens', 'is_masked'],\n",
       "     num_rows: 162948\n",
       " }),\n",
       " Dataset({\n",
       "     features: ['tokens', 'masked_tokens', 'is_masked'],\n",
       "     num_rows: 172999\n",
       " }),\n",
       " Dataset({\n",
       "     features: ['tokens', 'masked_tokens', 'is_masked'],\n",
       "     num_rows: 160956\n",
       " }),\n",
       " Dataset({\n",
       "     features: ['tokens', 'masked_tokens', 'is_masked'],\n",
       "     num_rows: 175229\n",
       " }),\n",
       " Dataset({\n",
       "     features: ['tokens', 'masked_tokens', 'is_masked'],\n",
       "     num_rows: 162693\n",
       " }),\n",
       " Dataset({\n",
       "     features: ['tokens', 'masked_tokens', 'is_masked'],\n",
       "     num_rows: 168274\n",
       " }),\n",
       " Dataset({\n",
       "     features: ['tokens', 'masked_tokens', 'is_masked'],\n",
       "     num_rows: 167903\n",
       " }),\n",
       " Dataset({\n",
       "     features: ['tokens', 'masked_tokens', 'is_masked'],\n",
       "     num_rows: 161565\n",
       " }),\n",
       " Dataset({\n",
       "     features: ['tokens', 'masked_tokens', 'is_masked'],\n",
       "     num_rows: 162859\n",
       " }),\n",
       " Dataset({\n",
       "     features: ['tokens', 'masked_tokens', 'is_masked'],\n",
       "     num_rows: 165703\n",
       " }),\n",
       " Dataset({\n",
       "     features: ['tokens', 'masked_tokens', 'is_masked'],\n",
       "     num_rows: 169797\n",
       " }),\n",
       " Dataset({\n",
       "     features: ['tokens', 'masked_tokens', 'is_masked'],\n",
       "     num_rows: 166866\n",
       " }),\n",
       " Dataset({\n",
       "     features: ['tokens', 'masked_tokens', 'is_masked'],\n",
       "     num_rows: 155920\n",
       " }),\n",
       " Dataset({\n",
       "     features: ['tokens', 'masked_tokens', 'is_masked'],\n",
       "     num_rows: 564459\n",
       " }),\n",
       " Dataset({\n",
       "     features: ['tokens', 'masked_tokens', 'is_masked'],\n",
       "     num_rows: 462027\n",
       " }),\n",
       " Dataset({\n",
       "     features: ['tokens', 'masked_tokens', 'is_masked'],\n",
       "     num_rows: 366900\n",
       " }),\n",
       " Dataset({\n",
       "     features: ['tokens', 'masked_tokens', 'is_masked'],\n",
       "     num_rows: 312681\n",
       " }),\n",
       " Dataset({\n",
       "     features: ['tokens', 'masked_tokens', 'is_masked'],\n",
       "     num_rows: 293901\n",
       " }),\n",
       " Dataset({\n",
       "     features: ['tokens', 'masked_tokens', 'is_masked'],\n",
       "     num_rows: 274809\n",
       " }),\n",
       " Dataset({\n",
       "     features: ['tokens', 'masked_tokens', 'is_masked'],\n",
       "     num_rows: 252192\n",
       " }),\n",
       " Dataset({\n",
       "     features: ['tokens', 'masked_tokens', 'is_masked'],\n",
       "     num_rows: 244789\n",
       " }),\n",
       " Dataset({\n",
       "     features: ['tokens', 'masked_tokens', 'is_masked'],\n",
       "     num_rows: 231538\n",
       " }),\n",
       " Dataset({\n",
       "     features: ['tokens', 'masked_tokens', 'is_masked'],\n",
       "     num_rows: 224537\n",
       " }),\n",
       " Dataset({\n",
       "     features: ['tokens', 'masked_tokens', 'is_masked'],\n",
       "     num_rows: 159805\n",
       " }),\n",
       " Dataset({\n",
       "     features: ['tokens', 'masked_tokens', 'is_masked'],\n",
       "     num_rows: 154380\n",
       " }),\n",
       " Dataset({\n",
       "     features: ['tokens', 'masked_tokens', 'is_masked'],\n",
       "     num_rows: 154070\n",
       " }),\n",
       " Dataset({\n",
       "     features: ['tokens', 'masked_tokens', 'is_masked'],\n",
       "     num_rows: 154646\n",
       " }),\n",
       " Dataset({\n",
       "     features: ['tokens', 'masked_tokens', 'is_masked'],\n",
       "     num_rows: 157720\n",
       " }),\n",
       " Dataset({\n",
       "     features: ['tokens', 'masked_tokens', 'is_masked'],\n",
       "     num_rows: 152376\n",
       " }),\n",
       " Dataset({\n",
       "     features: ['tokens', 'masked_tokens', 'is_masked'],\n",
       "     num_rows: 148781\n",
       " }),\n",
       " Dataset({\n",
       "     features: ['tokens', 'masked_tokens', 'is_masked'],\n",
       "     num_rows: 154994\n",
       " }),\n",
       " Dataset({\n",
       "     features: ['tokens', 'masked_tokens', 'is_masked'],\n",
       "     num_rows: 154683\n",
       " }),\n",
       " Dataset({\n",
       "     features: ['tokens', 'masked_tokens', 'is_masked'],\n",
       "     num_rows: 145809\n",
       " }),\n",
       " Dataset({\n",
       "     features: ['tokens', 'masked_tokens', 'is_masked'],\n",
       "     num_rows: 156688\n",
       " }),\n",
       " Dataset({\n",
       "     features: ['tokens', 'masked_tokens', 'is_masked'],\n",
       "     num_rows: 154675\n",
       " }),\n",
       " Dataset({\n",
       "     features: ['tokens', 'masked_tokens', 'is_masked'],\n",
       "     num_rows: 215324\n",
       " }),\n",
       " Dataset({\n",
       "     features: ['tokens', 'masked_tokens', 'is_masked'],\n",
       "     num_rows: 203911\n",
       " }),\n",
       " Dataset({\n",
       "     features: ['tokens', 'masked_tokens', 'is_masked'],\n",
       "     num_rows: 200715\n",
       " }),\n",
       " Dataset({\n",
       "     features: ['tokens', 'masked_tokens', 'is_masked'],\n",
       "     num_rows: 202386\n",
       " }),\n",
       " Dataset({\n",
       "     features: ['tokens', 'masked_tokens', 'is_masked'],\n",
       "     num_rows: 197290\n",
       " }),\n",
       " Dataset({\n",
       "     features: ['tokens', 'masked_tokens', 'is_masked'],\n",
       "     num_rows: 196395\n",
       " }),\n",
       " Dataset({\n",
       "     features: ['tokens', 'masked_tokens', 'is_masked'],\n",
       "     num_rows: 185717\n",
       " }),\n",
       " Dataset({\n",
       "     features: ['tokens', 'masked_tokens', 'is_masked'],\n",
       "     num_rows: 164728\n",
       " }),\n",
       " Dataset({\n",
       "     features: ['tokens', 'masked_tokens', 'is_masked'],\n",
       "     num_rows: 180381\n",
       " }),\n",
       " Dataset({\n",
       "     features: ['tokens', 'masked_tokens', 'is_masked'],\n",
       "     num_rows: 171809\n",
       " }),\n",
       " Dataset({\n",
       "     features: ['tokens', 'masked_tokens', 'is_masked'],\n",
       "     num_rows: 159278\n",
       " }),\n",
       " Dataset({\n",
       "     features: ['tokens', 'masked_tokens', 'is_masked'],\n",
       "     num_rows: 163572\n",
       " }),\n",
       " Dataset({\n",
       "     features: ['tokens', 'masked_tokens', 'is_masked'],\n",
       "     num_rows: 162664\n",
       " }),\n",
       " Dataset({\n",
       "     features: ['tokens', 'masked_tokens', 'is_masked'],\n",
       "     num_rows: 157510\n",
       " }),\n",
       " Dataset({\n",
       "     features: ['tokens', 'masked_tokens', 'is_masked'],\n",
       "     num_rows: 174769\n",
       " }),\n",
       " Dataset({\n",
       "     features: ['tokens', 'masked_tokens', 'is_masked'],\n",
       "     num_rows: 172961\n",
       " }),\n",
       " Dataset({\n",
       "     features: ['tokens', 'masked_tokens', 'is_masked'],\n",
       "     num_rows: 162658\n",
       " }),\n",
       " Dataset({\n",
       "     features: ['tokens', 'masked_tokens', 'is_masked'],\n",
       "     num_rows: 163493\n",
       " }),\n",
       " Dataset({\n",
       "     features: ['tokens', 'masked_tokens', 'is_masked'],\n",
       "     num_rows: 160988\n",
       " }),\n",
       " Dataset({\n",
       "     features: ['tokens', 'masked_tokens', 'is_masked'],\n",
       "     num_rows: 151511\n",
       " }),\n",
       " Dataset({\n",
       "     features: ['tokens', 'masked_tokens', 'is_masked'],\n",
       "     num_rows: 158048\n",
       " }),\n",
       " Dataset({\n",
       "     features: ['tokens', 'masked_tokens', 'is_masked'],\n",
       "     num_rows: 161696\n",
       " }),\n",
       " Dataset({\n",
       "     features: ['tokens', 'masked_tokens', 'is_masked'],\n",
       "     num_rows: 156221\n",
       " }),\n",
       " Dataset({\n",
       "     features: ['tokens', 'masked_tokens', 'is_masked'],\n",
       "     num_rows: 161447\n",
       " }),\n",
       " Dataset({\n",
       "     features: ['tokens', 'masked_tokens', 'is_masked'],\n",
       "     num_rows: 159244\n",
       " })]"
      ]
     },
     "execution_count": 7,
     "metadata": {},
     "output_type": "execute_result"
    }
   ],
   "source": [
    "datasets"
   ]
  },
  {
   "cell_type": "code",
   "execution_count": 9,
   "metadata": {},
   "outputs": [
    {
     "data": {
      "text/plain": [
       "['              total        used        free      shared  buff/cache   available\\n',\n",
       " 'Mem:         128800       41259       33827           5       53713       86274\\n',\n",
       " 'Swap:          1766        1520         245\\n',\n",
       " 'Total:       130566       42780       34072\\n']"
      ]
     },
     "execution_count": 9,
     "metadata": {},
     "output_type": "execute_result"
    }
   ],
   "source": [
    "import os\n",
    "\"\\n\".join(os.popen('free -t -m').readlines())"
   ]
  },
  {
   "cell_type": "code",
   "execution_count": 35,
   "metadata": {},
   "outputs": [
    {
     "name": "stdout",
     "output_type": "stream",
     "text": [
      "1689\n"
     ]
    }
   ],
   "source": [
    "import os, psutil\n",
    "process = psutil.Process(os.getpid())\n",
    "print(process.memory_info().rss//1000000)"
   ]
  },
  {
   "cell_type": "code",
   "execution_count": 13,
   "metadata": {},
   "outputs": [
    {
     "name": "stderr",
     "output_type": "stream",
     "text": [
      "Transform <function _concatenate_map_style_datasets at 0x7f33d57a59d0> couldn't be hashed properly, a random hash was used instead. Make sure your transforms and parameters are serializable with pickle or dill for the dataset fingerprinting and caching to work. If you reuse this transform, the caching mechanism will consider it to be different from the previous calls and recompute everything. This warning is only showed once. Subsequent hashing failures won't be showed.\n"
     ]
    }
   ],
   "source": [
    "dataset = concatenate_datasets(datasets)"
   ]
  },
  {
   "cell_type": "code",
   "execution_count": 21,
   "metadata": {},
   "outputs": [],
   "source": [
    "dataset.set_format(\"torch\")"
   ]
  },
  {
   "cell_type": "code",
   "execution_count": 31,
   "metadata": {},
   "outputs": [
    {
     "name": "stderr",
     "output_type": "stream",
     "text": [
      "100%|██████████| 1000/1000 [00:11<00:00, 84.48it/s]\n"
     ]
    }
   ],
   "source": [
    "x = 0\n",
    "for i in tqdm.tqdm(range(1000)):\n",
    "    x += len(dataset[random.randint(0,len(dataset)-1)])"
   ]
  },
  {
   "cell_type": "code",
   "execution_count": 28,
   "metadata": {},
   "outputs": [
    {
     "data": {
      "text/plain": [
       "3000"
      ]
     },
     "execution_count": 28,
     "metadata": {},
     "output_type": "execute_result"
    }
   ],
   "source": []
  },
  {
   "cell_type": "code",
   "execution_count": null,
   "metadata": {},
   "outputs": [],
   "source": []
  }
 ],
 "metadata": {
  "kernelspec": {
   "display_name": "Python 3.9.13 ('torch')",
   "language": "python",
   "name": "python3"
  },
  "language_info": {
   "codemirror_mode": {
    "name": "ipython",
    "version": 3
   },
   "file_extension": ".py",
   "mimetype": "text/x-python",
   "name": "python",
   "nbconvert_exporter": "python",
   "pygments_lexer": "ipython3",
   "version": "3.9.13"
  },
  "orig_nbformat": 4,
  "vscode": {
   "interpreter": {
    "hash": "ab29bdd578247210423fe399e48aecd0ef8b6f86b36785b7520d6025e6beafbf"
   }
  }
 },
 "nbformat": 4,
 "nbformat_minor": 2
}
