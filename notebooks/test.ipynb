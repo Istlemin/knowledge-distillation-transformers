{
 "cells": [
  {
   "cell_type": "code",
   "execution_count": 1,
   "metadata": {},
   "outputs": [
    {
     "name": "stderr",
     "output_type": "stream",
     "text": [
      "/local/scratch-3/fwe21/miniconda3/envs/torch/lib/python3.9/site-packages/tqdm/auto.py:22: TqdmWarning: IProgress not found. Please update jupyter and ipywidgets. See https://ipywidgets.readthedocs.io/en/stable/user_install.html\n",
      "  from .autonotebook import tqdm as notebook_tqdm\n"
     ]
    }
   ],
   "source": [
    "import glob\n",
    "from pathlib import Path\n",
    "\n",
    "from datasets.arrow_dataset import Dataset\n",
    "from datasets import concatenate_datasets\n",
    "\n",
    "dataset_path = Path(\"../../wikipedia_dataset/\")\n",
    "dataset = concatenate_datasets([Dataset.load_from_disk(path) for path in glob.glob(str(dataset_path / \"tokenized*\"))])"
   ]
  },
  {
   "cell_type": "code",
   "execution_count": 5,
   "metadata": {},
   "outputs": [
    {
     "name": "stderr",
     "output_type": "stream",
     "text": [
      "Found cached dataset wikipedia (/home/fwe21/.cache/huggingface/datasets/wikipedia/20220301.en/2.0.0/aa542ed919df55cc5d3347f42dd4521d05ca68751f50dbc32bae2a7f1e167559)\n",
      "100%|██████████| 1/1 [00:00<00:00, 54.53it/s]"
     ]
    },
    {
     "name": "stdout",
     "output_type": "stream",
     "text": [
      "6458670\n"
     ]
    },
    {
     "name": "stderr",
     "output_type": "stream",
     "text": [
      "\n"
     ]
    }
   ],
   "source": [
    "from datasets import load_dataset\n",
    "\n",
    "untokenized_dataset = load_dataset(\"wikipedia\", \"20220301.en\")\n",
    "print(len(untokenized_dataset[\"train\"]))"
   ]
  },
  {
   "cell_type": "code",
   "execution_count": 16,
   "metadata": {},
   "outputs": [],
   "source": [
    "from transformers import AutoTokenizer\n",
    "tokenizer = AutoTokenizer.from_pretrained(\"bert-base-uncased\") "
   ]
  },
  {
   "cell_type": "code",
   "execution_count": 22,
   "metadata": {},
   "outputs": [],
   "source": [
    "is_wordpiece_suffix = {\n",
    "    idx: word[0]=='#' for word,idx in tokenizer.vocab.items()\n",
    "}"
   ]
  },
  {
   "cell_type": "code",
   "execution_count": 28,
   "metadata": {},
   "outputs": [
    {
     "data": {
      "text/plain": [
       "'blanc'"
      ]
     },
     "execution_count": 28,
     "metadata": {},
     "output_type": "execute_result"
    }
   ],
   "source": [
    "tokenizer.decode([18698])"
   ]
  },
  {
   "cell_type": "code",
   "execution_count": 29,
   "metadata": {},
   "outputs": [
    {
     "data": {
      "text/plain": [
       "30521"
      ]
     },
     "execution_count": 29,
     "metadata": {},
     "output_type": "execute_result"
    }
   ],
   "source": [
    "max(is_wordpiece_suffix.keys())"
   ]
  },
  {
   "cell_type": "code",
   "execution_count": 30,
   "metadata": {},
   "outputs": [
    {
     "data": {
      "text/plain": [
       "30522"
      ]
     },
     "execution_count": 30,
     "metadata": {},
     "output_type": "execute_result"
    }
   ],
   "source": [
    "len(tokenizer)"
   ]
  },
  {
   "cell_type": "code",
   "execution_count": 34,
   "metadata": {},
   "outputs": [
    {
     "data": {
      "text/plain": [
       "[101, 2002, 22578, 2319, 102]"
      ]
     },
     "execution_count": 34,
     "metadata": {},
     "output_type": "execute_result"
    }
   ],
   "source": [
    "tokenizer(\"hejsan\")['input_ids']"
   ]
  },
  {
   "cell_type": "code",
   "execution_count": 35,
   "metadata": {},
   "outputs": [
    {
     "data": {
      "text/plain": [
       "{'id': '38084948',\n",
       " 'url': 'https://en.wikipedia.org/wiki/B%C3%A9la%20Szekeres',\n",
       " 'title': 'Béla Szekeres',\n",
       " 'text': 'Béla Szekeres may refer to:\\n\\n Béla Szekeres (cyclist) (born 1933), Hungarian cyclist\\n Béla Szekeres (runner) (1938-2000), Hungarian middle-distance runner',\n",
       " 'input_ids': [101,\n",
       "  20252,\n",
       "  1055,\n",
       "  24506,\n",
       "  18702,\n",
       "  2089,\n",
       "  6523,\n",
       "  2000,\n",
       "  1024,\n",
       "  20252,\n",
       "  1055,\n",
       "  24506,\n",
       "  18702,\n",
       "  1006,\n",
       "  14199,\n",
       "  1007,\n",
       "  1006,\n",
       "  2141,\n",
       "  4537,\n",
       "  1007,\n",
       "  1010,\n",
       "  5588,\n",
       "  14199,\n",
       "  20252,\n",
       "  1055,\n",
       "  24506,\n",
       "  18702,\n",
       "  1006,\n",
       "  5479,\n",
       "  1007,\n",
       "  1006,\n",
       "  4260,\n",
       "  1011,\n",
       "  2456,\n",
       "  1007,\n",
       "  1010,\n",
       "  5588,\n",
       "  2690,\n",
       "  1011,\n",
       "  3292,\n",
       "  5479,\n",
       "  102],\n",
       " 'token_type_ids': [0,\n",
       "  0,\n",
       "  0,\n",
       "  0,\n",
       "  0,\n",
       "  0,\n",
       "  0,\n",
       "  0,\n",
       "  0,\n",
       "  0,\n",
       "  0,\n",
       "  0,\n",
       "  0,\n",
       "  0,\n",
       "  0,\n",
       "  0,\n",
       "  0,\n",
       "  0,\n",
       "  0,\n",
       "  0,\n",
       "  0,\n",
       "  0,\n",
       "  0,\n",
       "  0,\n",
       "  0,\n",
       "  0,\n",
       "  0,\n",
       "  0,\n",
       "  0,\n",
       "  0,\n",
       "  0,\n",
       "  0,\n",
       "  0,\n",
       "  0,\n",
       "  0,\n",
       "  0,\n",
       "  0,\n",
       "  0,\n",
       "  0,\n",
       "  0,\n",
       "  0,\n",
       "  0],\n",
       " 'attention_mask': [1,\n",
       "  1,\n",
       "  1,\n",
       "  1,\n",
       "  1,\n",
       "  1,\n",
       "  1,\n",
       "  1,\n",
       "  1,\n",
       "  1,\n",
       "  1,\n",
       "  1,\n",
       "  1,\n",
       "  1,\n",
       "  1,\n",
       "  1,\n",
       "  1,\n",
       "  1,\n",
       "  1,\n",
       "  1,\n",
       "  1,\n",
       "  1,\n",
       "  1,\n",
       "  1,\n",
       "  1,\n",
       "  1,\n",
       "  1,\n",
       "  1,\n",
       "  1,\n",
       "  1,\n",
       "  1,\n",
       "  1,\n",
       "  1,\n",
       "  1,\n",
       "  1,\n",
       "  1,\n",
       "  1,\n",
       "  1,\n",
       "  1,\n",
       "  1,\n",
       "  1,\n",
       "  1]}"
      ]
     },
     "execution_count": 35,
     "metadata": {},
     "output_type": "execute_result"
    }
   ],
   "source": []
  },
  {
   "cell_type": "code",
   "execution_count": 52,
   "metadata": {},
   "outputs": [
    {
     "ename": "RuntimeError",
     "evalue": "Found dtype Float but expected Long",
     "output_type": "error",
     "traceback": [
      "\u001b[0;31m---------------------------------------------------------------------------\u001b[0m",
      "\u001b[0;31mRuntimeError\u001b[0m                              Traceback (most recent call last)",
      "Cell \u001b[0;32mIn [52], line 2\u001b[0m\n\u001b[1;32m      1\u001b[0m \u001b[39mimport\u001b[39;00m \u001b[39mtorch\u001b[39;00m\n\u001b[0;32m----> 2\u001b[0m torch\u001b[39m.\u001b[39;49mbinomial(torch\u001b[39m.\u001b[39;49mtensor(\u001b[39m10\u001b[39;49m),torch\u001b[39m.\u001b[39;49mtensor(\u001b[39m0.1\u001b[39;49m))\n",
      "\u001b[0;31mRuntimeError\u001b[0m: Found dtype Float but expected Long"
     ]
    }
   ],
   "source": [
    "import torch\n",
    "torch.bernoulli(torch.tensor(10),torch.tensor(0.1))"
   ]
  },
  {
   "cell_type": "code",
   "execution_count": 45,
   "metadata": {},
   "outputs": [],
   "source": [
    "from prepare_mlm_dataset import prepare_dataset"
   ]
  },
  {
   "cell_type": "code",
   "execution_count": 48,
   "metadata": {},
   "outputs": [
    {
     "name": "stdout",
     "output_type": "stream",
     "text": [
      "[[{'tokens': [101, 20252, 1055, 24506, 18702, 2089, 6523, 2000, 1024, 20252, 1055, 24506, 18702, 1006, 14199, 1007, 1006, 2141, 4537, 1007, 1010, 5588, 14199, 20252, 1055, 24506, 18702, 1006, 5479, 1007, 1006, 4260, 1011, 2456, 1007, 1010, 5588, 2690, 1011, 3292, 5479, 102], 'masked_tokens': [103, 103, 1055, 24506, 18702, 2089, 6523, 2000, 1024, 20252, 103, 103, 103, 1006, 14199, 1007, 1006, 2141, 4537, 1007, 1010, 5588, 14199, 20252, 103, 103, 103, 1006, 5479, 1007, 1006, 103, 1011, 2456, 1007, 1010, 5588, 2690, 1011, 3292, 5479, 102], 'is_masked': [True, True, False, False, False, False, False, False, False, False, True, True, True, False, False, False, False, False, False, False, False, False, False, False, True, True, True, False, False, False, False, True, False, False, False, False, False, False, False, False, False, False]}], [{'tokens': [101, 2023, 2003, 1037, 2862, 1997, 2193, 1011, 2028, 4978, 1999, 10991, 2011, 2095, 2013, 1996, 2557, 2327, 2531, 1997, 24108, 19666, 2050, 3673, 2029, 2003, 9227, 4882, 2011, 2065, 8197, 5569, 3072, 2006, 1037, 4882, 3978, 2144, 1996, 16990, 1997, 1996, 12747, 2120, 2930, 1006, 1055, 3619, 2065, 8197, 1007, 2006, 2285, 2861, 1010, 2268, 1012, 8876, 26817, 12609, 2015, 7604, 102], 'masked_tokens': [101, 2023, 103, 1037, 2862, 1997, 2193, 1011, 2028, 4978, 1999, 10991, 2011, 10787, 103, 1996, 103, 103, 2531, 1997, 24108, 19666, 2050, 3673, 2029, 2003, 9227, 103, 2011, 2065, 8197, 5569, 3072, 2006, 1037, 4882, 3978, 103, 103, 16990, 1997, 1996, 12747, 2120, 2930, 1006, 1055, 3619, 2065, 8197, 1007, 2006, 2285, 2861, 1010, 2268, 103, 103, 26817, 12609, 2015, 103, 102], 'is_masked': [False, False, True, False, False, False, False, False, False, False, False, False, False, True, True, False, True, True, False, False, False, False, False, False, False, False, False, True, False, False, False, False, False, False, False, False, False, True, True, False, False, False, False, False, False, False, False, False, False, False, False, False, False, False, False, False, True, True, False, False, False, True, False]}], [{'tokens': [101, 3744, 1011, 17329, 1011, 2572, 12618, 5562, 1011, 13389, 4115, 3105, 4232, 1006, 2459, 2089, 13414, 1516, 2676, 2255, 6863, 1007, 2001, 1037, 6995, 5507, 25852, 24342, 2121, 1010, 8088, 1998, 12235, 1997, 2413, 4761, 1012, 3910, 1997, 1996, 2034, 3278, 6995, 5507, 25852, 20721, 5069, 1010, 2034, 8088, 1999, 5706, 2006, 2385, 2244, 10011, 1010, 2472, 1997, 1996, 18070, 2139, 1048, 1521, 27746, 18886, 2063, 2139, 7987, 5602, 22869, 1006, 3068, 2688, 1997, 9371, 1007, 2013, 9840, 2000, 6863, 1010, 3105, 4232, 2209, 1037, 2535, 1010, 1999, 1996, 6018, 1010, 10660, 1010, 4045, 1998, 3919, 2458, 1997, 5706, 2076, 1996, 3803, 2558, 1998, 1996, 5853, 1997, 12752, 1045, 1012, 3167, 2166, 3105, 4232, 2001, 2141, 1999, 21790, 11393, 2100, 1010, 1999, 1996, 18535, 1011, 25823, 2181, 1997, 2605, 1012, 2010, 2269, 1010, 8149, 3105, 4232, 1010, 2001, 1037, 7500, 1010, 2059, 1037, 9278, 3771, 1998, 3664, 1997, 21790, 11393, 2100, 2005, 4228, 2086, 1012, 2036, 1037, 4802, 1010, 2002, 2973, 1999, 1037, 2160, 2012, 1996, 3329, 1997, 1037, 2940, 2006, 1996, 10314, 1997, 2029, 2002, 3079, 2048, 5822, 1998, 1037, 18621, 1012, 2002, 2496, 15334, 10975, 12672, 3372, 1010, 2684, 1997, 1996, 2352, 3653, 22994, 1006, 14351, 1007, 1012, 3105, 4232, 2985, 2416, 2030, 2698, 2086, 1999, 11374, 6072, 2012, 1996, 2168, 2082, 2008, 11064, 2106, 10624, 2102, 2018, 3230, 1010, 2059, 2506, 2010, 2495, 2012, 1996, 1048, 29297, 2063, 4461, 2139, 4487, 14339, 1010, 2073, 2002, 3230, 4280, 2445, 2011, 3312, 14855, 24310, 4140, 1012, 2875, 1996, 2203, 1997, 2010, 2166, 1010, 3105, 4232, 2764, 2019, 12024, 2005, 6259, 2964, 1998, 1999, 2010, 2345, 2086, 2002, 3544, 2000, 2031, 2439, 2010, 2568, 1012, 2002, 2003, 3950, 1999, 9371, 4528, 1012, 2476, 1037, 17169, 1999, 1996, 3803, 2455, 15584, 2076, 1996, 3400, 1998, 1996, 6418, 1010, 3105, 4232, 2150, 1037, 27558, 3803, 6926, 1012, 2383, 2657, 1997, 5507, 25852, 26228, 1010, 2002, 5295, 2013, 1996, 2455, 15584, 1998, 3876, 1999, 9371, 2073, 2002, 2001, 6319, 2011, 12552, 1012, 2010, 2034, 3222, 2001, 2000, 19141, 1996, 4698, 4244, 2236, 2229, 4078, 4163, 6887, 7274, 19516, 1010, 6267, 2011, 17889, 2368, 19892, 10875, 2104, 1996, 4045, 10195, 5605, 1997, 3744, 17329, 8945, 2854, 2139, 3002, 1011, 6320, 1010, 20758, 2852, 9331, 2666, 2480, 1998, 3744, 1011, 17329, 3158, 29408, 1012, 1999, 11102, 3105, 4232, 2631, 1037, 25908, 5507, 25852, 20721, 5069, 1010, 15440, 3744, 17329, 5506, 7140, 1012, 1996, 18341, 1040, 1521, 15846, 10364, 1048, 1521, 27746, 18886, 2063, 17360, 1999, 3000, 3390, 2019, 2248, 2971, 2005, 5507, 25852, 24342, 2545, 1999, 11517, 1010, 6461, 2012, 10377, 2075, 2216, 2040, 2018, 2081, 1996, 4602, 5082, 1999, 2037, 2396, 1012, 3105, 4232, 2001, 3018, 1996, 2751, 3101, 1006, 1523, 3393, 2522, 3126, 16252, 4078, 12778, 1011, 19021, 1524, 1010, 1017, 2285, 11517, 1007, 1012, 2206, 1996, 9500, 4329, 1010, 3105, 4232, 8073, 2150, 1037, 6995, 6926, 1012, 2044, 2010, 5507, 25852, 26228, 2449, 2253, 17482, 1010, 2002, 2985, 1037, 2095, 1999, 2310, 2099, 14356, 2015, 2073, 2002, 26275, 2370, 1999, 3919, 3314, 1012, 1999, 10212, 2002, 2150, 1037, 17678, 16098, 16089], 'masked_tokens': [101, 103, 1011, 103, 1011, 2572, 12618, 5562, 1011, 13389, 4115, 103, 103, 1006, 2459, 2089, 13414, 103, 2676, 2255, 6863, 103, 2001, 1037, 6995, 103, 103, 103, 103, 103, 8088, 1998, 12235, 1997, 2413, 4761, 1012, 3910, 1997, 1996, 2034, 3278, 6995, 5507, 25852, 20721, 5069, 1010, 2034, 8088, 1999, 5706, 2006, 2385, 2244, 10011, 1010, 2472, 1997, 1996, 103, 2139, 103, 1521, 27746, 18886, 2063, 2139, 7987, 5602, 22869, 1006, 3068, 2688, 1997, 9371, 103, 2013, 103, 2000, 6863, 1010, 3105, 4232, 2209, 103, 2535, 1010, 1999, 1996, 6018, 1010, 10660, 1010, 4045, 1998, 103, 103, 103, 5706, 2076, 1996, 3803, 103, 1998, 1996, 5853, 1997, 12752, 1045, 1012, 3167, 2166, 3105, 4232, 2001, 2141, 103, 21790, 11393, 2100, 1010, 1999, 103, 18535, 103, 25823, 2181, 1997, 2605, 1012, 2010, 2269, 1010, 8149, 3105, 4232, 1010, 2001, 1037, 103, 1010, 2059, 1037, 9278, 3771, 1998, 3664, 1997, 21790, 11393, 2100, 2005, 4228, 2086, 1012, 2036, 1037, 103, 1010, 2002, 2973, 103, 1037, 2160, 2012, 1996, 3329, 1997, 1037, 2940, 103, 1996, 10314, 1997, 2029, 2002, 3079, 2048, 5822, 1998, 103, 18621, 1012, 2002, 2496, 15334, 103, 103, 103, 1010, 2684, 1997, 1996, 2352, 3653, 22994, 1006, 14351, 1007, 1012, 3105, 4232, 2985, 2416, 2030, 2698, 2086, 1999, 11374, 6072, 2012, 1996, 2168, 2082, 2008, 11064, 2106, 10624, 2102, 2018, 3230, 1010, 2059, 2506, 2010, 27733, 103, 1996, 1048, 29297, 2063, 4461, 2139, 4487, 14339, 1010, 2073, 2002, 3230, 4280, 103, 2011, 3312, 14855, 24310, 4140, 1012, 2875, 1996, 2203, 1997, 2010, 2166, 1010, 3105, 4232, 2764, 2019, 12024, 2005, 6259, 2964, 1998, 1999, 2010, 103, 2086, 103, 3544, 2000, 2031, 2439, 2010, 2568, 1012, 2002, 2003, 3950, 1999, 103, 4528, 1012, 2476, 1037, 17169, 1999, 1996, 3803, 2455, 15584, 2076, 1996, 103, 1998, 1996, 6418, 1010, 3105, 4232, 2150, 1037, 27558, 3803, 6926, 1012, 2383, 2657, 1997, 5507, 25852, 26228, 103, 2002, 103, 2013, 103, 2455, 15584, 1998, 3876, 1999, 9371, 2073, 2002, 2001, 6319, 103, 12552, 1012, 2010, 2034, 3222, 2001, 2000, 19141, 1996, 4698, 4244, 2236, 2229, 4078, 103, 6887, 7274, 19516, 1010, 6267, 2011, 17889, 2368, 19892, 10875, 103, 1996, 4045, 10195, 5605, 1997, 3744, 17329, 103, 103, 2139, 3002, 1011, 103, 1010, 20758, 2852, 9331, 2666, 2480, 1998, 3744, 1011, 17329, 103, 29408, 1012, 1999, 103, 3105, 4232, 2631, 1037, 25908, 5507, 25852, 20721, 5069, 1010, 15440, 3744, 17329, 5506, 7140, 1012, 1996, 18341, 1040, 1521, 15846, 10364, 1048, 1521, 27746, 18886, 2063, 17360, 103, 3000, 103, 2019, 103, 2971, 2005, 5507, 25852, 24342, 2545, 1999, 103, 1010, 6461, 2012, 10377, 2075, 103, 2040, 2018, 2081, 1996, 4602, 5082, 1999, 2037, 2396, 1012, 103, 103, 2001, 3018, 1996, 2751, 3101, 1006, 103, 3393, 2522, 3126, 16252, 4078, 12778, 1011, 19021, 1524, 1010, 1017, 2285, 2665, 1007, 1012, 2206, 1996, 9500, 4329, 103, 3105, 4232, 8073, 2150, 1037, 6995, 6926, 1012, 2044, 2010, 5507, 25852, 26228, 2449, 2253, 17482, 1010, 2002, 2985, 1037, 2095, 1999, 2310, 2099, 14356, 2015, 2073, 103, 26275, 2370, 1999, 3919, 3314, 1012, 1999, 10212, 2002, 103, 1037, 17678, 16098, 16089], 'is_masked': [False, True, False, True, False, False, False, False, False, False, False, True, True, False, False, False, False, True, False, False, False, True, False, False, False, True, True, True, True, True, False, False, False, False, False, False, False, False, False, False, False, False, False, False, False, False, False, False, True, False, False, False, False, False, True, False, False, True, False, False, True, False, True, False, False, False, False, False, False, False, False, False, False, False, False, False, True, False, True, False, False, False, False, False, False, True, False, False, False, False, True, False, False, False, False, False, True, True, True, False, False, False, False, True, False, False, False, False, False, False, False, False, False, False, False, False, False, True, False, False, False, False, False, True, False, True, False, False, False, False, False, False, False, False, False, False, False, False, False, False, True, False, False, False, False, False, False, False, False, False, False, False, False, False, False, False, False, False, True, False, False, False, True, False, False, False, False, False, False, False, False, True, False, False, False, False, False, False, False, False, False, True, False, False, False, False, False, True, True, True, False, False, False, False, False, False, False, False, False, False, False, False, False, False, False, False, False, False, False, False, False, False, False, False, False, False, False, False, False, False, False, False, False, False, False, False, True, True, False, False, False, False, False, False, False, False, False, False, False, False, False, True, False, False, False, False, False, False, False, False, False, False, False, False, False, False, False, False, False, False, False, False, False, False, False, False, True, False, True, False, False, False, False, False, False, False, False, False, False, True, True, False, False, False, False, False, False, False, False, False, False, False, False, True, False, False, False, False, False, False, False, False, False, False, False, False, False, False, False, False, False, False, True, False, True, False, True, False, False, False, False, False, False, False, False, False, False, True, False, False, False, False, False, False, False, False, False, False, False, False, False, False, True, False, False, False, False, False, False, False, False, False, False, True, False, False, False, False, False, False, False, True, True, False, True, False, True, False, False, False, False, False, False, False, False, False, False, True, False, False, False, True, False, False, False, False, False, False, False, False, False, False, False, False, False, False, False, False, False, True, False, False, False, False, False, False, False, False, False, False, True, True, True, False, True, False, False, False, False, False, False, False, True, False, False, False, False, False, True, False, True, False, False, False, False, False, False, False, False, True, True, False, False, False, False, False, False, True, False, False, False, False, False, False, False, False, False, False, False, False, True, False, False, False, False, False, False, True, False, False, False, False, False, False, False, False, False, False, False, False, False, False, False, False, False, False, False, False, False, False, False, False, False, False, False, True, False, False, False, False, False, False, False, False, False, True, False, False, False, False]}, {'tokens': [3367, 2005, 1996, 4695, 1997, 8149, 8863, 2139, 20996, 2226, 19716, 6977, 1010, 19758, 2139, 3002, 1011, 4079, 1999, 5706, 1012, 2002, 7837, 2000, 3725, 1999, 11040, 2073, 2002, 2777, 2798, 8670, 22414, 3351, 1998, 2059, 16196, 2005, 1996, 2737, 2000, 2022, 3107, 2046, 5706, 1012, 1999, 9713, 2002, 2150, 3954, 1997, 2048, 3679, 6399, 1010, 3393, 5470, 2389, 2139, 1048, 1521, 27746, 18886, 2063, 1998, 3393, 2522, 3126, 16252, 19337, 3351, 1010, 1999, 2029, 2002, 2405, 1037, 5930, 1000, 13146, 27746, 18886, 2884, 1000, 1012, 1999, 9840, 3105, 4232, 3818, 1999, 2010, 3780, 5815, 2054, 2002, 2170, 1000, 4469, 6832, 5939, 6873, 14773, 3494, 1000, 1006, 2164, 2019, 19728, 26136, 6593, 14505, 1007, 2029, 2089, 2022, 2641, 14988, 2015, 2000, 2556, 1011, 2154, 7861, 20214, 5644, 1998, 27420, 2015, 1012, 1999, 10011, 3105, 4232, 2001, 2805, 5849, 2005, 1996, 6995, 2231, 2012, 1996, 2413, 3919, 4538, 1999, 3000, 1010, 2073, 2002, 2777, 8173, 19027, 3995, 1010, 3434, 4830, 9077, 14343, 1010, 5797, 5578, 1011, 20371, 7367, 25698, 2121, 5921, 2116, 2060, 17412, 1998, 21691, 2015, 1012, 2002, 2036, 4149, 1037, 4830, 9077, 14343, 26305, 14709, 1012, 2067, 1999, 9371, 1010, 2002, 4594, 1999, 2635, 1996, 2034, 6995, 9982, 2006, 2385, 2244, 10011, 1010, 1037, 4830, 9077, 14343, 26305, 3193, 1997, 1996, 2173, 4078, 19820, 5555, 6155, 1999, 9371, 1010, 2206, 2023, 2039, 1999, 2255, 2007, 1996, 2034, 6995, 6533, 1012, 2119, 1997, 2122, 7766, 2024, 2085, 2439, 1012, 3105, 4232, 2001, 2805, 2472, 1997, 1996, 18070, 2548, 2139, 1048, 1521, 27746, 18886, 2063, 1999, 9371, 1999, 9840, 1010, 2073, 2002, 2764, 2010, 4784, 1997, 19713, 6483, 2029, 2525, 2059, 2777, 2715, 1011, 2154, 5918, 2005, 5680, 1010, 12105, 25165, 1010, 2817, 1998, 2759, 3989, 1012, 13749, 18595, 3560, 1998, 28575, 1010, 3105, 4232, 5068, 6421, 13979, 1999, 7497, 1010, 10808, 1010, 2833, 4425, 1010, 3665, 1010, 19630, 2015, 1998, 2060, 2752, 1012, 1999, 7973, 2002, 2275, 2039, 1037, 13979, 2436, 1010, 1037, 20138, 4270, 2005, 13951, 12235, 2015, 2000, 5371, 13979, 1998, 4047, 2037, 21644, 1012, 2002, 2405, 3365, 2573, 1998, 4790, 2006, 3919, 3200, 1010, 7414, 2032, 1037, 5891, 2004, 1996, 4602, 3049, 2121, 2005, 7789, 3200, 2916, 1999, 1996, 9137, 2301, 1012, 3105, 4232, 2764, 2019, 3171, 1998, 2591, 3399, 2008, 2002, 2170, 1523, 13813, 16161, 15049, 1524, 1998, 2008, 2002, 4225, 2004, 1523, 2013, 18847, 2015, 1010, 2894, 1010, 8285, 2015, 1010, 25763, 1998, 6536, 2080, 1010, 7149, 1524, 1012, 7145, 1037, 15404, 2001, 1037, 16427, 1010, 4379, 7580, 1010, 2005, 6202, 1037, 2204, 7495, 2000, 2035, 1010, 2019, 4895, 29427, 14293, 17707, 12098, 16313, 19848, 6588, 1012, 13813, 16161, 15049, 2052, 2022, 1996, 3019, 2157, 2000, 27764, 1997, 25763, 1998, 1996, 10962, 1997, 2028, 1005, 1055, 4428, 2015, 1010, 1523, 1996, 2074, 10377, 2005, 2147, 1010, 5848, 1998, 28297, 1524, 1012, 2010, 7896, 3687, 2032, 1996, 8489, 1997, 1996, 2925, 8891, 3523, 1010, 5125, 9395, 1998, 8549, 15808, 10768, 10415, 4221, 2728, 2139, 20342, 9516, 2483, 1012, 2573, 1046, 1012, 1038, 1012, 1037, 1012, 1049, 1012, 3105, 4232, 1010, 1000, 25207, 17338, 3630, 9856, 2591], 'masked_tokens': [3367, 2005, 1996, 4695, 1997, 8149, 8863, 2139, 103, 103, 103, 103, 1010, 103, 2139, 3002, 1011, 4079, 1999, 5706, 103, 2002, 7837, 103, 3725, 1999, 11040, 2073, 2002, 2777, 2798, 8670, 22414, 3351, 1998, 2059, 16196, 103, 1996, 103, 2000, 2022, 3107, 2046, 103, 1012, 1999, 9713, 2002, 2150, 3954, 1997, 2048, 3679, 6399, 103, 3393, 5470, 2389, 2139, 1048, 1521, 27746, 18886, 2063, 1998, 11932, 2522, 3126, 16252, 19337, 3351, 1010, 1999, 103, 2002, 2405, 1037, 5930, 1000, 13146, 27746, 18886, 2884, 1000, 1012, 1999, 9840, 3105, 4232, 3818, 1999, 2010, 3780, 5815, 2054, 2002, 2170, 1000, 4469, 6832, 5939, 6873, 14773, 3494, 1000, 1006, 20290, 2019, 19728, 26136, 6593, 14505, 1007, 2029, 2089, 2022, 2641, 14988, 2015, 2000, 2556, 1011, 103, 7861, 20214, 5644, 1998, 27420, 2015, 1012, 1999, 10011, 3105, 4232, 2001, 2805, 5849, 2005, 1996, 6995, 2231, 2012, 1996, 2413, 3919, 4538, 1999, 3000, 1010, 2073, 103, 2777, 8173, 19027, 3995, 1010, 17525, 4830, 9077, 14343, 1010, 5797, 5578, 1011, 20371, 7367, 25698, 2121, 5921, 2116, 103, 17412, 1998, 21691, 2015, 1012, 2002, 103, 4149, 1037, 4830, 9077, 14343, 26305, 14709, 1012, 2067, 1999, 9371, 1010, 103, 4594, 1999, 2635, 1996, 2034, 6995, 9982, 2006, 2385, 2244, 10011, 1010, 1037, 4830, 9077, 14343, 26305, 3193, 103, 103, 2173, 4078, 19820, 5555, 6155, 1999, 9371, 1010, 2206, 2023, 2039, 1999, 2255, 2007, 103, 2034, 6995, 6533, 1012, 2119, 1997, 2122, 103, 2024, 2085, 2439, 1012, 3105, 4232, 2001, 2805, 2472, 1997, 1996, 12965, 2548, 2139, 1048, 1521, 27746, 18886, 2063, 1999, 9371, 103, 9840, 1010, 2073, 2002, 103, 2010, 4784, 1997, 19713, 6483, 2029, 2525, 103, 2777, 2715, 1011, 15212, 5918, 2005, 5680, 1010, 12105, 25165, 1010, 2817, 1998, 2759, 3989, 1012, 103, 103, 103, 103, 28575, 1010, 3105, 4232, 5068, 6421, 13979, 1999, 103, 1010, 10808, 1010, 2833, 4425, 1010, 3665, 1010, 19630, 2015, 1998, 2060, 2752, 1012, 1999, 7973, 2002, 2275, 2039, 1037, 13979, 2436, 1010, 1037, 103, 103, 2005, 13951, 12235, 2015, 2000, 103, 13979, 1998, 4047, 2037, 21644, 1012, 2002, 2405, 3365, 2573, 1998, 4790, 2006, 3919, 3200, 1010, 7414, 2032, 1037, 103, 2004, 103, 4602, 3049, 2121, 103, 103, 3200, 2916, 1999, 1996, 9137, 2301, 1012, 3105, 4232, 2764, 2019, 3171, 1998, 2591, 3399, 2008, 2002, 103, 1523, 103, 103, 103, 1524, 1998, 2008, 2002, 4225, 2004, 1523, 2013, 103, 103, 1010, 2894, 1010, 8285, 2015, 1010, 25763, 1998, 6536, 2080, 1010, 7149, 1524, 1012, 7145, 1037, 103, 103, 1037, 16427, 1010, 4379, 103, 1010, 2005, 6202, 1037, 103, 7495, 2000, 103, 1010, 2019, 4895, 29427, 14293, 17707, 12098, 16313, 19848, 6588, 1012, 103, 103, 103, 2052, 2022, 1996, 103, 103, 2000, 27764, 1997, 25763, 1998, 1996, 10962, 1997, 2028, 1005, 1055, 4428, 2015, 1010, 1523, 1996, 103, 10377, 2005, 103, 1010, 5848, 1998, 28297, 1524, 103, 2010, 7896, 3687, 2032, 1996, 8489, 1997, 1996, 2925, 8891, 3523, 1010, 5125, 103, 103, 8549, 15808, 10768, 10415, 4221, 2728, 2139, 20342, 9516, 2483, 1012, 2573, 1046, 1012, 1038, 1012, 1037, 1012, 1049, 1012, 3105, 4232, 1010, 1000, 103, 17338, 3630, 9856, 2591], 'is_masked': [False, False, False, False, False, False, False, False, True, True, True, True, False, True, False, False, False, False, False, False, True, False, False, True, False, False, False, False, False, False, False, False, False, False, False, False, False, True, False, True, False, False, False, False, True, False, False, False, False, False, False, False, False, False, False, True, False, False, False, False, False, False, False, False, False, False, True, False, False, False, True, True, False, False, True, False, False, False, False, False, False, False, False, False, False, False, False, False, False, False, False, False, False, False, False, False, True, False, True, False, False, False, False, False, True, False, False, True, False, False, False, False, False, False, True, False, False, False, False, False, False, False, False, True, False, False, False, False, False, False, False, False, False, False, False, False, False, True, False, False, False, False, False, False, False, False, False, True, False, False, False, True, False, True, False, False, False, True, False, False, False, False, False, False, False, False, True, True, True, False, False, True, False, False, False, False, False, False, True, False, False, False, False, False, False, False, False, False, False, False, False, True, False, False, False, False, False, False, False, False, False, False, False, False, False, False, False, False, False, False, True, True, False, False, False, False, False, False, False, False, False, False, False, False, False, False, True, False, False, False, False, False, False, False, True, False, False, False, False, False, False, False, False, False, False, False, True, False, False, False, True, False, False, False, False, False, True, False, False, False, False, True, False, False, False, False, False, False, False, True, False, False, False, True, False, False, False, False, False, False, False, False, False, False, False, False, True, True, True, True, False, False, False, False, False, False, False, False, True, False, False, False, False, False, False, False, False, False, False, False, False, False, False, False, False, False, False, False, False, False, False, False, False, True, True, False, False, False, False, False, True, False, False, False, False, False, False, False, False, False, False, False, False, False, False, False, False, False, False, False, True, False, True, False, False, False, True, True, False, False, False, False, False, False, False, False, False, False, False, False, False, False, False, False, False, True, False, True, True, True, False, False, False, False, False, False, False, False, True, True, False, False, False, False, False, False, False, False, False, False, False, False, False, False, False, False, True, True, False, False, False, False, True, False, False, False, False, True, False, False, True, False, False, False, False, False, False, True, True, True, True, False, True, True, True, False, False, False, True, True, False, False, False, False, False, False, False, False, False, False, False, False, False, False, False, False, True, False, False, True, False, False, False, False, True, True, False, False, False, False, False, False, False, False, False, False, False, False, False, True, True, False, False, False, False, False, False, False, False, False, False, False, False, False, False, False, False, False, False, False, False, False, False, False, False, True, False, False, False, False]}, {'tokens': [2063, 15068, 13813, 16161, 15049, 27746, 18886, 2884, 1010, 3063, 7413, 1010, 3293, 3802, 19070, 14737, 1010, 13545, 2063, 7505, 2474, 23976, 23500, 2618, 4078, 7987, 18697, 3215, 1040, 1005, 11028, 1010, 4078, 11493, 2015, 1010, 2944, 2229, 3802, 9388, 10997, 2139, 6904, 23736, 4226, 1000, 1010, 3000, 1010, 20494, 1010, 7987, 5602, 22869, 1010, 18178, 2480, 1048, 1005, 8740, 2618, 3126, 1010, 9730, 1012, 1046, 1012, 1038, 1012, 1037, 1012, 1049, 1012, 3105, 4232, 1010, 1000, 4649, 25207, 2015, 21644, 19554, 13080, 2015, 5304, 20434, 1000, 1010, 7987, 5602, 22869, 1011, 11222, 1010, 4257, 4887, 1010, 8204, 1516, 5388, 1010, 1016, 5285, 1012, 1043, 2094, 1999, 1011, 1022, 7737, 1012, 8762, 1998, 25995, 8517, 1024, 2961, 1997, 1996, 8009, 1997, 6225, 8517, 1024, 3002, 10269, 3101, 5000, 1997, 1996, 2548, 2344, 1997, 4557, 1045, 1997, 1996, 2048, 14387, 18622, 2229, 3964, 2582, 3752, 3312, 1010, 7112, 1042, 1012, 1004, 8040, 2232, 29602, 4181, 1010, 9822, 1010, 1000, 4895, 18615, 4887, 1037, 1048, 1005, 2885, 1024, 6583, 21205, 5897, 2139, 2474, 9982, 2666, 4372, 19337, 5856, 4226, 1010, 1999, 1000, 13146, 12241, 4355, 7373, 2140, 4241, 4923, 15029, 2139, 19337, 5856, 4226, 1000, 1010, 1050, 7737, 16923, 1010, 2960, 1010, 1052, 1012, 1016, 1011, 2570, 1000, 1012, 3312, 1010, 7112, 1042, 1012, 1004, 8040, 2232, 29602, 4181, 1010, 9822, 1010, 1000, 13932, 2058, 9371, 1024, 1996, 2034, 2095, 1997, 5855, 1999, 5706, 1000, 1010, 1999, 1000, 2381, 1997, 5855, 1000, 1010, 2410, 1010, 2960, 1010, 1052, 1012, 26271, 1011, 4029, 2620, 1012, 18856, 6679, 2015, 1010, 5032, 1011, 10941, 1010, 1000, 1046, 1012, 1038, 1012, 1037, 1012, 1049, 1012, 3105, 4232, 1006, 13414, 1011, 6863, 1007, 1010, 4432, 20589, 2139, 25272, 2595, 9680, 25378, 4372, 7913, 1048, 1005, 2396, 3802, 1048, 1005, 27746, 18886, 2063, 1010, 2552, 11236, 26927, 14762, 13910, 2666, 4078, 14494, 2139, 1048, 1005, 3746, 4372, 19337, 5856, 4226, 8740, 8418, 2595, 2063, 9033, 8586, 2571, 1000, 1006, 2122, 2139, 3460, 4017, 1010, 22176, 4937, 14854, 7413, 2139, 10223, 3567, 2378, 1010, 2294, 1010, 1999, 2098, 4221, 1007, 1012, 18856, 6679, 2015, 1010, 5032, 1011, 10941, 1010, 1000, 13389, 4115, 3105, 4232, 1010, 4895, 4432, 20589, 16475, 5686, 1040, 1521, 16290, 2529, 29422, 1000, 1010, 1999, 1000, 2671, 4434, 1000, 1010, 2322, 1010, 2263, 1010, 1052, 1012, 2322, 1011, 2603, 1012, 18856, 6679, 2015, 1010, 5032, 1011, 10941, 1010, 1000, 13389, 4115, 3105, 4232, 1010, 25212, 2078, 4432, 20589, 2777, 2529, 29422, 2572, 16313, 2666, 1000, 1010, 1999, 1000, 2671, 4434, 1000, 1010, 2322, 1010, 2263, 1010, 1052, 1012, 2322, 1011, 2603, 1012, 18856, 6679, 2015, 1010, 5032, 1011, 10941, 1010, 1000, 1046, 1012, 1038, 1012, 1037, 1012, 1049, 1012, 3105, 4232, 3802, 3393, 15775, 16093, 7011, 3351, 26193, 28437, 4372, 19337, 5856, 4226, 8740, 23689, 17301, 4241, 8418, 2595, 2063, 9033, 8586, 2571, 1000, 1010, 1999, 1000, 6187, 4048, 2545, 2139, 2474, 13545, 17378, 1010, 17480, 1040, 1521, 20088, 2591, 2063, 3802, 27746, 18886, 14774, 2139, 2474, 2555, 7987, 5602, 15350, 5562, 1000, 1010, 3486, 1010, 2294, 1010, 1052, 1012, 2538, 1011, 2423, 1012, 18856, 6679], 'masked_tokens': [103, 15068, 103, 103, 103, 27746, 18886, 2884, 1010, 3063, 7413, 1010, 3293, 103, 19070, 14737, 1010, 103, 103, 7505, 2474, 23976, 23500, 2618, 17977, 7987, 18697, 3215, 1040, 103, 11028, 1010, 4078, 11493, 2015, 1010, 2944, 2229, 3802, 9388, 10997, 2139, 6904, 23736, 4226, 1000, 1010, 3000, 1010, 20494, 11341, 7987, 5602, 22869, 103, 18178, 2480, 1048, 103, 8740, 2618, 3126, 1010, 9730, 1012, 1046, 1012, 1038, 1012, 1037, 1012, 103, 1012, 103, 103, 103, 103, 4649, 25207, 2015, 21644, 19554, 13080, 2015, 5304, 20434, 1000, 1010, 7987, 5602, 22869, 1011, 11222, 1010, 4257, 4887, 1010, 8204, 1516, 5388, 1010, 1016, 5285, 1012, 1043, 2094, 1999, 1011, 1022, 7737, 103, 8762, 1998, 25995, 8517, 1024, 2961, 1997, 19411, 8009, 1997, 6225, 8517, 103, 3002, 10269, 3101, 5000, 1997, 1996, 2548, 2344, 1997, 4557, 1045, 1997, 1996, 103, 14387, 18622, 2229, 103, 2582, 3752, 3312, 1010, 7112, 1042, 1012, 1004, 8040, 2232, 29602, 4181, 1010, 9822, 1010, 103, 4895, 103, 103, 103, 103, 103, 2885, 1024, 6583, 21205, 5897, 2139, 2474, 9982, 2666, 4372, 19337, 5856, 4226, 1010, 1999, 1000, 13146, 12241, 4355, 7373, 2140, 4241, 4923, 15029, 2139, 19337, 5856, 4226, 103, 1010, 1050, 7737, 103, 1010, 2960, 1010, 1052, 1012, 1016, 1011, 2570, 1000, 16972, 3312, 103, 7112, 1042, 1012, 1004, 8040, 2232, 29602, 4181, 1010, 103, 103, 1000, 13932, 2058, 9371, 1024, 1996, 2034, 2095, 1997, 5855, 1999, 103, 1000, 1010, 1999, 1000, 103, 1997, 5855, 1000, 1010, 2410, 1010, 2960, 1010, 1052, 1012, 26271, 1011, 29517, 4772, 103, 18856, 6679, 2015, 1010, 5032, 1011, 10941, 1010, 1000, 1046, 1012, 1038, 1012, 103, 1012, 1049, 1012, 103, 103, 1006, 13414, 1011, 6863, 1007, 1010, 4432, 20589, 2139, 25272, 2595, 9680, 25378, 4372, 7913, 1048, 1005, 2396, 3802, 1048, 1005, 27746, 18886, 2063, 1010, 2552, 11236, 26927, 14762, 13910, 2666, 4078, 14494, 2139, 1048, 1005, 3746, 4372, 19337, 5856, 4226, 103, 103, 103, 103, 9033, 8586, 2571, 1000, 1006, 2122, 2139, 103, 103, 1010, 22176, 4937, 14854, 7413, 103, 10223, 3567, 2378, 1010, 2294, 1010, 1999, 2098, 4221, 1007, 103, 18856, 6679, 2015, 1010, 5032, 1011, 10941, 15055, 1000, 103, 103, 3105, 4232, 1010, 4895, 4432, 20589, 16475, 5686, 28916, 1521, 16290, 2529, 29422, 1000, 1010, 1999, 1000, 2671, 4434, 1000, 103, 103, 1010, 2263, 1010, 1052, 1012, 2322, 1011, 2603, 1012, 18856, 6679, 2015, 1010, 5032, 1011, 10941, 103, 1000, 13389, 4115, 103, 103, 103, 25212, 2078, 4432, 20589, 2777, 2529, 29422, 2572, 16313, 2666, 1000, 1010, 103, 1000, 103, 4434, 1000, 1010, 2322, 103, 2263, 1010, 1052, 1012, 2322, 1011, 2603, 1012, 18856, 6679, 2015, 1010, 5032, 1011, 10941, 1010, 1000, 103, 1012, 1038, 103, 3375, 1012, 1049, 1012, 3105, 4232, 3802, 3393, 15775, 16093, 7011, 3351, 26193, 28437, 4372, 19337, 5856, 4226, 8740, 23689, 17301, 4241, 8418, 2595, 2063, 103, 103, 103, 1000, 1010, 103, 1000, 6187, 4048, 2545, 103, 2474, 13545, 17378, 1010, 17480, 1040, 1521, 20088, 2591, 2063, 103, 27746, 18886, 14774, 2139, 2474, 2555, 7987, 5602, 15350, 5562, 1000, 1010, 3486, 1010, 2294, 1010, 1052, 1012, 2538, 1011, 103, 1012, 18856, 6679], 'is_masked': [True, False, True, True, True, False, False, False, False, False, False, False, False, True, False, False, False, True, True, False, True, False, False, False, True, False, False, False, False, True, False, False, False, False, False, False, False, False, False, False, False, False, False, False, False, False, False, False, False, False, True, False, False, False, True, False, False, False, True, False, False, False, True, False, False, False, False, False, False, False, False, True, False, True, True, True, True, False, False, False, False, False, False, False, False, False, False, False, False, False, False, False, False, False, False, False, False, False, False, False, False, False, False, False, False, False, False, False, False, False, True, False, False, False, False, False, False, False, True, False, False, False, False, True, False, False, False, False, False, False, False, False, False, False, False, False, False, True, False, False, False, True, False, False, False, False, False, False, False, False, False, False, False, False, False, False, False, True, False, True, True, True, True, True, False, False, False, False, False, False, True, False, False, False, False, False, False, False, False, False, False, False, False, False, False, False, False, False, False, False, False, False, True, False, False, False, True, False, False, False, False, False, False, False, False, False, True, False, True, False, False, False, False, False, False, False, False, False, True, True, False, False, False, False, False, False, False, False, False, False, False, True, False, False, False, False, True, False, False, False, False, False, False, False, False, False, False, False, False, True, True, True, False, False, False, False, False, False, False, False, False, True, False, False, False, True, False, False, False, True, True, False, False, False, False, False, False, False, False, False, False, False, False, False, False, False, False, False, False, False, False, False, False, False, False, False, False, False, False, False, False, False, False, False, False, False, False, False, False, False, False, False, True, True, True, True, False, False, False, False, False, False, False, True, True, False, False, False, False, False, True, False, False, False, False, False, False, False, False, False, False, True, False, False, False, False, False, False, False, True, False, True, True, False, False, False, False, False, False, False, False, True, False, False, False, False, False, False, False, False, False, False, False, True, True, False, False, False, False, False, False, False, False, True, False, False, False, False, False, False, False, True, False, False, False, True, True, True, False, False, False, False, False, False, False, False, False, False, False, False, True, False, True, True, False, False, False, True, False, False, False, False, False, False, False, False, False, False, False, False, False, False, False, False, False, True, False, False, True, True, False, False, False, False, False, False, False, False, False, False, False, False, False, False, False, False, False, False, False, False, False, False, False, False, True, True, True, False, False, True, False, False, False, False, True, False, False, False, False, False, False, False, False, False, False, True, False, False, False, False, False, False, False, False, False, False, False, False, False, False, False, False, False, False, False, False, True, False, False, False]}, {'tokens': [2015, 1010, 5032, 1011, 10941, 1010, 1000, 13389, 4115, 3105, 4232, 3802, 3393, 18070, 2139, 1048, 1521, 27746, 18886, 2063, 2139, 7987, 5602, 22869, 1000, 1010, 18033, 1000, 2474, 17480, 4241, 18070, 4078, 2840, 3802, 2777, 10136, 1000, 1010, 1050, 7737, 4868, 1516, 4720, 1010, 3000, 1010, 11703, 6633, 13578, 2268, 1010, 1052, 1012, 4413, 1011, 5187, 1012, 18856, 6679, 2015, 1010, 5032, 1011, 10941, 1010, 1000, 13389, 4115, 3105, 4232, 1041, 1051, 18437, 2226, 4830, 27746, 18886, 2050, 2139, 7987, 5602, 10581, 2015, 1000, 1010, 18033, 3814, 13234, 11409, 8167, 2229, 28709, 2229, 1006, 8917, 1012, 1007, 1010, 1000, 1999, 7103, 16288, 2015, 1010, 5624, 16288, 2015, 1010, 18437, 2271, 1000, 1010, 19337, 2080, 9154, 2618, 1010, 8740, 6528, 22723, 3559, 2050, 1010, 2249, 1010, 1052, 1012, 6353, 1011, 6282, 1012, 6327, 6971, 2573, 2517, 2011, 3744, 1011, 17329, 1011, 2572, 12618, 5562, 1011, 13389, 4115, 3105, 4232, 3784, 2006, 26033, 5555, 9530, 13181, 16070, 2015, 4241, 8418, 2595, 2063, 9033, 8586, 2571, 7505, 2474, 17678, 7373, 2618, 24823, 16284, 2571, 3744, 17329, 2572, 12618, 5562, 13389, 4115, 3105, 4232, 6302, 29521, 19848, 2100, 2006, 1011, 2240, 1010, 2548, 2820, 2005, 3451, 4348, 1010, 9371, 13414, 18250, 6863, 6677, 2111, 2013, 18535, 1011, 25823, 6145, 2013, 9371, 6995, 13023, 2015, 6995, 5507, 25852, 24342, 2545, 17008, 2013, 9371, 13200, 1997, 5855, 3708, 1011, 2301, 17008, 3708, 1011, 2301, 6995, 12235, 2015, 23109, 2012, 9371, 4528, 102], 'masked_tokens': [2015, 1010, 5032, 1011, 10941, 1010, 1000, 13389, 4115, 3105, 4232, 3802, 103, 18070, 2139, 1048, 1521, 103, 103, 103, 2139, 7987, 5602, 22869, 1000, 1010, 18033, 1000, 2474, 17480, 4241, 18070, 26026, 103, 3802, 2777, 10136, 1000, 1010, 1050, 7737, 4868, 1516, 4720, 1010, 3000, 1010, 11703, 6633, 13578, 103, 1010, 1052, 103, 4413, 1011, 5187, 1012, 18856, 6679, 2015, 1010, 5032, 1011, 10941, 1010, 103, 13389, 4115, 103, 103, 1041, 1051, 103, 103, 4830, 27746, 18886, 2050, 2139, 7987, 5602, 10581, 2015, 1000, 1010, 18033, 3814, 103, 11409, 8167, 2229, 28709, 2229, 1006, 8917, 1012, 1007, 1010, 1000, 1999, 7103, 16288, 2015, 1010, 5624, 16288, 2015, 1010, 103, 103, 1000, 1010, 19337, 2080, 103, 103, 1010, 8740, 6528, 22723, 3559, 2050, 1010, 2249, 1010, 103, 103, 6353, 1011, 6282, 1012, 103, 6971, 2573, 2517, 103, 3744, 103, 17329, 1011, 2572, 12618, 5562, 1011, 13389, 4115, 3105, 4232, 3784, 2006, 26033, 5555, 9530, 13181, 16070, 2015, 103, 8418, 2595, 2063, 9033, 8586, 2571, 7505, 2474, 17678, 7373, 2618, 24823, 16284, 2571, 3744, 17329, 2572, 12618, 5562, 13389, 4115, 103, 103, 6302, 29521, 19848, 2100, 2006, 103, 103, 1010, 103, 2820, 2005, 103, 103, 1010, 103, 103, 103, 6863, 103, 2111, 2013, 103, 1011, 103, 6145, 2013, 9371, 6995, 13023, 2015, 6995, 5507, 25852, 24342, 2545, 17008, 2013, 9371, 13200, 1997, 5855, 103, 1011, 2301, 17008, 3708, 1011, 2301, 103, 12235, 2015, 23109, 2012, 9371, 4528, 102], 'is_masked': [False, False, False, False, False, False, False, False, False, False, False, False, True, False, False, False, False, True, True, True, False, False, False, False, False, False, False, False, False, False, False, False, True, True, False, False, False, False, False, False, False, False, False, False, False, False, False, False, False, False, True, False, False, True, False, False, False, False, False, False, False, True, False, False, False, True, True, False, False, True, True, False, False, True, True, False, False, False, False, False, False, False, False, False, False, False, False, False, True, False, False, False, False, False, False, False, False, False, False, False, False, False, False, False, False, False, False, False, False, True, True, False, False, False, False, True, True, False, False, False, False, False, False, False, False, False, True, True, True, False, False, False, True, False, False, False, True, False, True, False, False, False, False, False, False, False, False, False, False, False, True, False, False, False, False, False, False, True, False, False, False, False, False, False, False, False, False, False, False, False, False, False, False, False, False, False, False, False, False, True, True, False, False, False, False, False, True, True, False, True, False, False, True, True, False, True, True, True, False, True, False, False, True, False, True, False, True, False, False, False, False, False, False, False, False, False, False, False, False, False, False, False, True, False, False, False, False, False, False, True, False, False, False, False, False, False, False]}], [{'tokens': [101, 1996, 18699, 10128, 2942, 8858, 5679, 9446, 2003, 2019, 6884, 9446, 1010, 8800, 2000, 28868, 2008, 2020, 3936, 1999, 1996, 7938, 2942, 8858, 5679, 2012, 1996, 2120, 2902, 5427, 4636, 1010, 1999, 2220, 2262, 1012, 1996, 6884, 28868, 2443, 7909, 2000, 5745, 17865, 1010, 4895, 21572, 11788, 11137, 4989, 1997, 17865, 1998, 4325, 1997, 2019, 14477, 9397, 26251, 3131, 2012, 1996, 18699, 10128, 1012, 1996, 9446, 2001, 3395, 2000, 1037, 15113, 2011, 1996, 2740, 5768, 2837, 1012, 2087, 1997, 1996, 6884, 4447, 2020, 2179, 2000, 2022, 16542, 2007, 2051, 2011, 2536, 4372, 15549, 2854, 13239, 1010, 2174, 9751, 2024, 2145, 2183, 2006, 1012, 7604, 4331, 1997, 7938, 2230, 1999, 7938, 2230, 1999, 2375, 20428, 2375, 7897, 1999, 7938, 102], 'masked_tokens': [103, 1996, 18699, 10128, 2942, 8858, 5679, 9446, 2003, 2019, 6884, 9446, 1010, 8800, 2000, 28868, 2008, 2020, 103, 1999, 1996, 7938, 2942, 8858, 5679, 103, 1996, 2120, 2902, 5427, 4636, 1010, 1999, 2220, 2262, 1012, 1996, 103, 28868, 2443, 7909, 2000, 5745, 17865, 1010, 4895, 21572, 11788, 11137, 4989, 1997, 103, 1998, 4325, 1997, 2019, 14477, 9397, 26251, 103, 2012, 1996, 18699, 10128, 1012, 1996, 103, 2001, 3395, 2000, 1037, 15113, 2011, 1996, 2740, 5768, 2837, 1012, 2087, 1997, 1996, 103, 4447, 2020, 2179, 2000, 2022, 16542, 103, 2051, 2011, 2536, 4372, 15549, 2854, 13239, 1010, 2174, 9751, 2024, 2145, 2183, 103, 103, 7604, 4331, 1997, 7938, 103, 1999, 7938, 2230, 1999, 2375, 20428, 2375, 7897, 1999, 7938, 102], 'is_masked': [True, False, False, False, False, False, False, False, False, False, False, False, False, False, False, False, False, False, True, False, False, False, False, False, False, True, False, False, False, False, False, False, False, False, False, False, False, True, False, False, False, False, False, False, False, False, False, False, False, False, False, True, False, False, False, False, False, False, False, True, False, False, False, False, False, False, True, False, False, False, False, False, False, False, False, False, False, False, False, False, False, True, False, False, False, False, False, False, True, False, False, False, False, False, False, False, False, False, False, False, False, False, True, True, False, False, False, False, True, False, False, False, False, False, False, False, False, False, False, False]}]]\n"
     ]
    }
   ],
   "source": [
    "\n",
    "import glob\n",
    "from pathlib import Path\n",
    "from datasets import concatenate_datasets\n",
    "from transformers import AutoTokenizer\n",
    "\n",
    "tokenizer = AutoTokenizer.from_pretrained(\"bert-base-uncased\")\n",
    "\n",
    "dataset_path = Path(\"../../wikipedia_dataset/\")\n",
    "dataset = concatenate_datasets(\n",
    "    [\n",
    "        Dataset.load_from_disk(path)\n",
    "        for path in glob.glob(str(dataset_path / \"tokenized*\"))\n",
    "    ]\n",
    ")\n",
    "\n",
    "prepare_dataset(dataset, tokenizer, seq_len=512)"
   ]
  },
  {
   "cell_type": "code",
   "execution_count": null,
   "metadata": {},
   "outputs": [],
   "source": []
  }
 ],
 "metadata": {
  "kernelspec": {
   "display_name": "Python 3.9.13 ('torch')",
   "language": "python",
   "name": "python3"
  },
  "language_info": {
   "codemirror_mode": {
    "name": "ipython",
    "version": 3
   },
   "file_extension": ".py",
   "mimetype": "text/x-python",
   "name": "python",
   "nbconvert_exporter": "python",
   "pygments_lexer": "ipython3",
   "version": "3.9.13"
  },
  "orig_nbformat": 4,
  "vscode": {
   "interpreter": {
    "hash": "ab29bdd578247210423fe399e48aecd0ef8b6f86b36785b7520d6025e6beafbf"
   }
  }
 },
 "nbformat": 4,
 "nbformat_minor": 2
}
