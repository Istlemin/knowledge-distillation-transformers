{
 "cells": [
  {
   "cell_type": "code",
   "execution_count": 12,
   "metadata": {},
   "outputs": [],
   "source": [
    "from multiprocessing import Process, Queue\n",
    "import multiprocessing\n",
    "from datasets.arrow_dataset import Dataset\n",
    "from transformers import PreTrainedTokenizer\n",
    "from typing import List, Dict\n",
    "import torch\n",
    "import random\n",
    "import tqdm\n",
    "import glob\n",
    "from pathlib import Path\n",
    "from datasets import concatenate_datasets, Dataset\n",
    "from transformers import AutoTokenizer\n",
    "#from model import load_pretrained_bert_base\n",
    "from transformers import AutoModelForSequenceClassification, AutoModelForMaskedLM,AutoModelForPreTraining\n",
    "#from model import get_bert_config, BertForSequenceClassificationWithLoss, BertForMaskedLMWithLoss\n",
    "from transformers import BertConfig, BertForMaskedLM\n"
   ]
  },
  {
   "cell_type": "code",
   "execution_count": 44,
   "metadata": {},
   "outputs": [
    {
     "name": "stderr",
     "output_type": "stream",
     "text": [
      "Some weights of BertForPreTraining were not initialized from the model checkpoint at ../../models/pretrained_bert_mlm/ and are newly initialized: ['bert.pooler.dense.weight', 'bert.pooler.dense.bias', 'cls.seq_relationship.weight', 'cls.seq_relationship.bias']\n",
      "You should probably TRAIN this model on a down-stream task to be able to use it for predictions and inference.\n"
     ]
    }
   ],
   "source": [
    "model1 = AutoModelForPreTraining.from_pretrained(\"../../models/general_tinybert_pretrain/\")\n",
    "model2 = AutoModelForPreTraining.from_pretrained(\"../../models/pretrained_bert_mlm/\")\n",
    "model3 = AutoModelForPreTraining.from_pretrained(\"prajjwal1/bert-small\")"
   ]
  },
  {
   "cell_type": "code",
   "execution_count": 45,
   "metadata": {},
   "outputs": [],
   "source": [
    "tok = AutoTokenizer.from_pretrained(\"bert-base-uncased\")"
   ]
  },
  {
   "cell_type": "code",
   "execution_count": 46,
   "metadata": {},
   "outputs": [],
   "source": [
    "from transformers import BertTokenizer"
   ]
  },
  {
   "cell_type": "code",
   "execution_count": 61,
   "metadata": {},
   "outputs": [
    {
     "name": "stdout",
     "output_type": "stream",
     "text": [
      "##logists\n",
      ". if i lie in my bed for a long time i will fall asleep eventually..\n",
      "will if i lie in my bed for a long time i will fall asleep eventually. fall\n"
     ]
    }
   ],
   "source": [
    "b = tok([\"If I lie in my bed for a long time I will fall [MASK] eventually.\"])\n",
    "b = {k:torch.tensor(v) for k,v in b.items()}\n",
    "print(tok.decode(model1(**b).prediction_logits.argsort(dim=-1)[0,0].tolist()[0]))\n",
    "print(tok.decode(model2(**b).prediction_logits.argmax(dim=-1).tolist()[0]))\n",
    "print(tok.decode(model3(**b).prediction_logits.argmax(dim=-1).tolist()[0]))"
   ]
  },
  {
   "cell_type": "code",
   "execution_count": null,
   "metadata": {},
   "outputs": [],
   "source": []
  }
 ],
 "metadata": {
  "kernelspec": {
   "display_name": "torch",
   "language": "python",
   "name": "python3"
  },
  "language_info": {
   "codemirror_mode": {
    "name": "ipython",
    "version": 3
   },
   "file_extension": ".py",
   "mimetype": "text/x-python",
   "name": "python",
   "nbconvert_exporter": "python",
   "pygments_lexer": "ipython3",
   "version": "3.9.13"
  },
  "orig_nbformat": 4,
  "vscode": {
   "interpreter": {
    "hash": "ab29bdd578247210423fe399e48aecd0ef8b6f86b36785b7520d6025e6beafbf"
   }
  }
 },
 "nbformat": 4,
 "nbformat_minor": 2
}
