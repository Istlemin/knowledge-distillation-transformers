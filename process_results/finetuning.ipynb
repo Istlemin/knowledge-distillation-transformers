{
 "cells": [
  {
   "cell_type": "code",
   "execution_count": 1,
   "metadata": {},
   "outputs": [
    {
     "name": "stderr",
     "output_type": "stream",
     "text": [
      "/local/scratch-3/fwe21/miniconda3/envs/torch/lib/python3.9/site-packages/tqdm/auto.py:22: TqdmWarning: IProgress not found. Please update jupyter and ipywidgets. See https://ipywidgets.readthedocs.io/en/stable/user_install.html\n",
      "  from .autonotebook import tqdm as notebook_tqdm\n"
     ]
    }
   ],
   "source": [
    "import seaborn as sns\n",
    "import matplotlib.pyplot as plt\n",
    "import glob\n",
    "import numpy as np\n",
    "\n",
    "from process_results.results_utils import DATASETS, DEFAULT_METRIC, to_dataframe, make_plots, read_log, f\n",
    "\n",
    "def plot_heatmap(df):\n",
    "    df[\"score_str\"] =  df.best_metric.map(lambda x: f\"{x*100:.1f}\\n\") + df.last3_mean.map(lambda x: f\"{x*100:.1f}\") + df.last3_std.map(lambda x: f\" ± {x*100:.1f}\")\n",
    "    sns.heatmap(df.pivot(\"lr\",\"batch_size\",\"best_metric\"), annot=df.pivot(\"lr\",\"batch_size\",\"score_str\"),fmt=\"\")\n",
    "    plt.show()\n",
    "\n",
    "def logfile_paths(dataset):\n",
    "    return glob.glob(f\"../../checkpoints/finetune/bert_base/{dataset}/**/log\",recursive=True)\n",
    "\n",
    "# for dataset in DATASETS:\n",
    "#     for logfile in logfile_paths(dataset):\n",
    "#         df = to_dataframe(logfile, metric=DEFAULT_METRIC[dataset])\n",
    "#         plot_heatmap(df)"
   ]
  },
  {
   "cell_type": "code",
   "execution_count": 2,
   "metadata": {},
   "outputs": [],
   "source": [
    "# for dataset in DATASETS:\n",
    "#     score = to_dataframe(logfile_paths(dataset)[0], metric=DEFAULT_METRIC[dataset])[\"best_metric\"].max()\n",
    "#     print(f\"{dataset}: {score}\")"
   ]
  },
  {
   "cell_type": "code",
   "execution_count": null,
   "metadata": {},
   "outputs": [],
   "source": [
    "for dataset in DATASETS:\n",
    "    print(dataset)\n",
    "    for logfile in glob.glob(f\"../../checkpoints/finetune/bert_base/{dataset}/log*\"):\n",
    "        df = to_dataframe(logfile, metric=DEFAULT_METRIC[dataset])\n",
    "        if \"best_metric\" in df:\n",
    "            print(df[\"best_metric\"].max(),logfile)\n",
    "            make_plots(logfile, metric=DEFAULT_METRIC[dataset])"
   ]
  },
  {
   "cell_type": "code",
   "execution_count": 3,
   "metadata": {},
   "outputs": [
    {
     "ename": "NameError",
     "evalue": "name 'plot_repeats' is not defined",
     "output_type": "error",
     "traceback": [
      "\u001b[0;31m---------------------------------------------------------------------------\u001b[0m",
      "\u001b[0;31mNameError\u001b[0m                                 Traceback (most recent call last)",
      "\u001b[1;32m/local-zfs/fwe21/project/knowledge-distillation-transformers/process_results/finetuning.ipynb Cell 4\u001b[0m in \u001b[0;36m2\n\u001b[1;32m      <a href='vscode-notebook-cell://ssh-remote%2Bbeyla.cl.cam.ac.uk/local-zfs/fwe21/project/knowledge-distillation-transformers/process_results/finetuning.ipynb#W3sdnNjb2RlLXJlbW90ZQ%3D%3D?line=0'>1</a>\u001b[0m \u001b[39mfor\u001b[39;00m dataset \u001b[39min\u001b[39;00m DATASETS:\n\u001b[0;32m----> <a href='vscode-notebook-cell://ssh-remote%2Bbeyla.cl.cam.ac.uk/local-zfs/fwe21/project/knowledge-distillation-transformers/process_results/finetuning.ipynb#W3sdnNjb2RlLXJlbW90ZQ%3D%3D?line=1'>2</a>\u001b[0m     plot_repeats(dataset,\u001b[39mf\u001b[39m\u001b[39m\"\u001b[39m\u001b[39m../../checkpoints/finetune/tinybert/\u001b[39m\u001b[39m{\u001b[39;00mdataset\u001b[39m}\u001b[39;00m\u001b[39m/log\u001b[39m\u001b[39m\"\u001b[39m, \u001b[39mf\u001b[39m\u001b[39m\"\u001b[39m\u001b[39m../../checkpoints/finetune/\u001b[39m\u001b[39m{\u001b[39;00mdataset\u001b[39m}\u001b[39;00m\u001b[39m/\u001b[39m\u001b[39m{\u001b[39;00mdataset\u001b[39m}\u001b[39;00m\u001b[39m/log_rp*\u001b[39m\u001b[39m\"\u001b[39m)\n",
      "\u001b[0;31mNameError\u001b[0m: name 'plot_repeats' is not defined"
     ]
    }
   ],
   "source": [
    "for dataset in DATASETS:\n",
    "    plot_repeats(dataset,f\"../../checkpoints/finetune/tinybert/{dataset}/log\", f\"../../checkpoints/finetune/{dataset}/{dataset}/log_rp*\")"
   ]
  },
  {
   "cell_type": "code",
   "execution_count": null,
   "metadata": {},
   "outputs": [],
   "source": []
  }
 ],
 "metadata": {
  "kernelspec": {
   "display_name": "torch",
   "language": "python",
   "name": "python3"
  },
  "language_info": {
   "codemirror_mode": {
    "name": "ipython",
    "version": 3
   },
   "file_extension": ".py",
   "mimetype": "text/x-python",
   "name": "python",
   "nbconvert_exporter": "python",
   "pygments_lexer": "ipython3",
   "version": "3.9.13"
  },
  "orig_nbformat": 4
 },
 "nbformat": 4,
 "nbformat_minor": 2
}
