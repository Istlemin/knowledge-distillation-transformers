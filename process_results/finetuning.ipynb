{
 "cells": [
  {
   "cell_type": "code",
   "execution_count": 5,
   "metadata": {},
   "outputs": [],
   "source": [
    "import seaborn as sns\n",
    "import matplotlib.pyplot as plt\n",
    "import glob\n",
    "import numpy as np\n",
    "\n",
    "from process_results.results_utils import DATASETS, DEFAULT_METRIC, to_dataframe, make_plots, read_log, f, plot_repeats\n",
    "\n",
    "def plot_heatmap(df):\n",
    "    df[\"score_str\"] =  df.best_metric.map(lambda x: f\"{x*100:.1f}\\n\") + df.last3_mean.map(lambda x: f\"{x*100:.1f}\") + df.last3_std.map(lambda x: f\" ± {x*100:.1f}\")\n",
    "    sns.heatmap(df.pivot(\"lr\",\"batch_size\",\"best_metric\"), annot=df.pivot(\"lr\",\"batch_size\",\"score_str\"),fmt=\"\")\n",
    "    plt.show()\n",
    "\n",
    "def logfile_paths(dataset):\n",
    "    return glob.glob(f\"../../checkpoints/finetune/bert_base/{dataset}/**/log\",recursive=True)\n",
    "\n",
    "# for dataset in DATASETS:\n",
    "#     for logfile in logfile_paths(dataset):\n",
    "#         df = to_dataframe(logfile, metric=DEFAULT_METRIC[dataset])\n",
    "#         plot_heatmap(df)"
   ]
  },
  {
   "cell_type": "code",
   "execution_count": 2,
   "metadata": {},
   "outputs": [],
   "source": [
    "# for dataset in DATASETS:\n",
    "#     score = to_dataframe(logfile_paths(dataset)[0], metric=DEFAULT_METRIC[dataset])[\"best_metric\"].max()\n",
    "#     print(f\"{dataset}: {score}\")"
   ]
  },
  {
   "cell_type": "code",
   "execution_count": null,
   "metadata": {},
   "outputs": [],
   "source": [
    "for dataset in DATASETS:\n",
    "    print(dataset)\n",
    "    for logfile in glob.glob(f\"../../checkpoints/finetune/bert_base/{dataset}/log*\"):\n",
    "        df = to_dataframe(logfile, metric=DEFAULT_METRIC[dataset])\n",
    "        if \"best_metric\" in df:\n",
    "            print(df[\"best_metric\"].max(),logfile)\n",
    "            make_plots(logfile, metric=DEFAULT_METRIC[dataset])"
   ]
  },
  {
   "cell_type": "code",
   "execution_count": 7,
   "metadata": {},
   "outputs": [
    {
     "name": "stdout",
     "output_type": "stream",
     "text": [
      "QNLI\n",
      "[0.8833974006955885, 0.8861431447922387, 0.8835804503020318, 0.8865092440051254]\n",
      "\\textbf{88.7} (88.5{\\footnotesize±0.1})\n",
      "RTE\n",
      "[0.6534296028880866, 0.6173285198555957, 0.6101083032490975, 0.6498194945848376]\n",
      "\\textbf{65.3} (63.3{\\footnotesize±1.9})\n",
      "SST-2\n",
      "[0.8979357798165137, 0.8944954128440367, 0.9002293577981652, 0.8922018348623854]\n",
      "\\textbf{90.0} (89.6{\\footnotesize±0.3})\n",
      "MRPC\n",
      "[0.808695652173913, 0.8139130434782609, 0.8028985507246377, 0.8133333333333334]\n",
      "\\textbf{81.4} (81.0{\\footnotesize±0.4})\n",
      "MNLI\n",
      "[0.803871625063678, 0.8017320427916454, 0.78634742740703]\n",
      "\\textbf{80.4} (79.7{\\footnotesize±0.8})\n",
      "QQP\n",
      "[0.8656756281852722, 0.8658441305160522, 0.8669000864028931, 0.8661304116249084]\n",
      "\\textbf{86.7} (86.6{\\footnotesize±0.0})\n",
      "CoLA\n",
      "[0.4762446880340576, 0.4328077733516693, 0.4328095614910126, 0.43856924772262573]\n",
      "\\textbf{47.6} (44.5{\\footnotesize±1.8})\n"
     ]
    }
   ],
   "source": [
    "for dataset in DATASETS:\n",
    "    try:\n",
    "        plot_repeats(dataset,\n",
    "            f\"../../checkpoints/finetune/bert-medium/{dataset}/log_hp*\",\n",
    "            f\"../../checkpoints/finetune/bert-medium/{dataset}/log_rp*\"\n",
    "        )\n",
    "    except:\n",
    "        print(\"Fail\",dataset)"
   ]
  },
  {
   "cell_type": "code",
   "execution_count": 4,
   "metadata": {},
   "outputs": [
    {
     "name": "stdout",
     "output_type": "stream",
     "text": [
      "QNLI\n",
      "[0.5780706571480871, 0.5745927146256635, 0.5680029287937031, 0.5714808713161267]\n",
      "\\textbf{57.8} (57.3{\\footnotesize±0.4})\n",
      "RTE\n",
      "[0.4981949458483754, 0.5415162454873647, 0.48736462093862815]\n",
      "\\textbf{54.2} (50.9{\\footnotesize±2.3})\n",
      "SST-2\n",
      "[0.7522935779816514, 0.7798165137614679, 0.7694954128440367, 0.7775229357798165]\n",
      "\\textbf{78.0} (77.0{\\footnotesize±1.1})\n",
      "MRPC\n",
      "[0.6828985507246377, 0.6707246376811594, 0.664927536231884, 0.6730434782608695]\n",
      "\\textbf{68.3} (67.3{\\footnotesize±0.6})\n",
      "MNLI\n",
      "fail MNLI\n",
      "QQP\n",
      "[0.4043695628643036]\n",
      "\\textbf{40.4} (40.4{\\footnotesize±0.0})\n",
      "CoLA\n",
      "[-0.007887379266321659, 0.0028609998989850283, -1]\n",
      "\\textbf{0.3} (-33.5{\\footnotesize±47.0})\n"
     ]
    }
   ],
   "source": [
    "for dataset in DATASETS:\n",
    "    try:\n",
    "        plot_repeats(dataset,\n",
    "            f\"../../checkpoints/finetune/bert-base-quantised/{dataset}/log_hp*\",\n",
    "            f\"../../checkpoints/finetune/bert-base-quantised/{dataset}/log_rp*\"\n",
    "        )\n",
    "    except:\n",
    "        print(\"fail\",dataset)"
   ]
  },
  {
   "cell_type": "code",
   "execution_count": null,
   "metadata": {},
   "outputs": [],
   "source": []
  }
 ],
 "metadata": {
  "kernelspec": {
   "display_name": "torch",
   "language": "python",
   "name": "python3"
  },
  "language_info": {
   "codemirror_mode": {
    "name": "ipython",
    "version": 3
   },
   "file_extension": ".py",
   "mimetype": "text/x-python",
   "name": "python",
   "nbconvert_exporter": "python",
   "pygments_lexer": "ipython3",
   "version": "3.9.13"
  },
  "orig_nbformat": 4
 },
 "nbformat": 4,
 "nbformat_minor": 2
}
