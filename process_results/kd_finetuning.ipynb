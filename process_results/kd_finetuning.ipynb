{
 "cells": [
  {
   "cell_type": "code",
   "execution_count": 1,
   "metadata": {},
   "outputs": [
    {
     "name": "stderr",
     "output_type": "stream",
     "text": [
      "/local/scratch-3/fwe21/miniconda3/envs/torch/lib/python3.9/site-packages/tqdm/auto.py:22: TqdmWarning: IProgress not found. Please update jupyter and ipywidgets. See https://ipywidgets.readthedocs.io/en/stable/user_install.html\n",
      "  from .autonotebook import tqdm as notebook_tqdm\n"
     ]
    }
   ],
   "source": [
    "import seaborn as sns\n",
    "import matplotlib.pyplot as plt\n",
    "import glob\n",
    "import numpy as np\n",
    "\n",
    "from process_results.results_utils import DATASETS, DEFAULT_METRIC, to_dataframe, make_plots, f\n",
    "\n",
    "def plot_heatmap(df):\n",
    "    df[\"score_str\"] =  df.best_metric.map(lambda x: f\"{x*100:.1f}\\n\") + df.last3_mean.map(lambda x: f\"{x*100:.1f}\") + df.last3_std.map(lambda x: f\" ± {x*100:.1f}\")\n",
    "    sns.heatmap(df.pivot(\"lr\",\"batch_size\",\"best_metric\"), annot=df.pivot(\"lr\",\"batch_size\",\"score_str\"),fmt=\"\")\n",
    "    plt.show()\n",
    "\n",
    "def logfile_paths(dataset):\n",
    "    return glob.glob(f\"../../checkpoints/kd_finetune/{dataset}/**/long_pretrain/prediction/log\",recursive=True)\n",
    "\n",
    "# for dataset in DATASETS:\n",
    "#     for logfile in logfile_paths(dataset):\n",
    "#         df = to_dataframe(logfile, metric=DEFAULT_METRIC[dataset])\n",
    "#         plot_heatmap(df)"
   ]
  },
  {
   "cell_type": "code",
   "execution_count": 2,
   "metadata": {},
   "outputs": [],
   "source": [
    "# for dataset in DATASETS:\n",
    "#     score = to_dataframe(logfile_paths(dataset)[0], metric=DEFAULT_METRIC[dataset])[\"best_metric\"].max()\n",
    "#     print(f\"{dataset}: {score}\")"
   ]
  },
  {
   "cell_type": "code",
   "execution_count": 5,
   "metadata": {},
   "outputs": [
    {
     "name": "stdout",
     "output_type": "stream",
     "text": [
      "RTE\n",
      "0.5992779783393501 0.5732851985559567 ../../checkpoints/kd_finetune/RTE/tinybert/pretrained_tinybert/prediction/log\n",
      "59.93 57.33+1.20\n",
      "0.6570397111913358 0.6382671480144405 ../../checkpoints/kd_finetune/RTE/tinybert/pretrained_10epochs/prediction/log\n",
      "65.70 63.83+0.90\n",
      "0.6606498194945848 0.6385078219013237 ../../checkpoints/kd_finetune/RTE/tinybert/pretrained_17epochs/prediction/log\n",
      "66.06 63.85+1.64\n",
      "0.6534296028880866 0.6220216606498195 ../../checkpoints/kd_finetune/RTE/tinybert/pretrained_3epochs/prediction/log\n",
      "65.34 62.20+1.32\n",
      "0.6534296028880866 0.6377858002406739 ../../checkpoints/kd_finetune/RTE/tinybert/huggingface/prediction/log\n",
      "65.34 63.78+1.15\n"
     ]
    }
   ],
   "source": [
    "\n",
    "for dataset in DATASETS:\n",
    "    dataset=\"CoLA\"\n",
    "    print(dataset)\n",
    "    #for logfile in glob.glob(f\"../../checkpoints/kd_finetune/{dataset}/**/long_pretrain/prediction/log\",recursive=True):\n",
    "    for logfile in glob.glob(f\"../../checkpoints/kd_finetune/{dataset}/**/pretrained_*/prediction/log\",recursive=True) + \\\n",
    "    glob.glob(f\"../../checkpoints/kd_finetune/{dataset}/**/huggingface/prediction/log\",recursive=True):\n",
    "        df = to_dataframe(logfile, metric=DEFAULT_METRIC[dataset])\n",
    "        if len(df[\"best_metric\"])>0:\n",
    "            print(df[\"best_metric\"].max(),df[\"avg_metric\"].mean(),logfile)\n",
    "            all_scores = sum(df[\"epoch_metrics\"],[])\n",
    "            print(f(np.max(all_scores)),f(np.mean(all_scores))+\"+\"+f(np.std(all_scores)))\n",
    "            #make_plots(logfile, metric=DEFAULT_METRIC[dataset])\n",
    "        else:\n",
    "            print(\"Warning\", len(df))\n",
    "    break"
   ]
  },
  {
   "cell_type": "code",
   "execution_count": null,
   "metadata": {},
   "outputs": [],
   "source": []
  }
 ],
 "metadata": {
  "kernelspec": {
   "display_name": "torch",
   "language": "python",
   "name": "python3"
  },
  "language_info": {
   "codemirror_mode": {
    "name": "ipython",
    "version": 3
   },
   "file_extension": ".py",
   "mimetype": "text/x-python",
   "name": "python",
   "nbconvert_exporter": "python",
   "pygments_lexer": "ipython3",
   "version": "3.9.13"
  },
  "orig_nbformat": 4
 },
 "nbformat": 4,
 "nbformat_minor": 2
}
