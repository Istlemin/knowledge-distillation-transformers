{
 "cells": [
  {
   "cell_type": "code",
   "execution_count": 2,
   "metadata": {},
   "outputs": [],
   "source": [
    "from model import get_bert_config\n",
    "from transformers import AutoModelForSequenceClassification"
   ]
  },
  {
   "cell_type": "code",
   "execution_count": 61,
   "metadata": {},
   "outputs": [],
   "source": [
    "from transformers.models.bert.modeling_bert import BertEmbeddings, BertEncoder,BertLayer, BertAttention, BertIntermediate, BertOutput"
   ]
  },
  {
   "cell_type": "code",
   "execution_count": 4,
   "metadata": {},
   "outputs": [],
   "source": [
    "from modeling.bert import prepare_bert_for_quantization\n",
    "\n",
    "ternary_bert = AutoModelForSequenceClassification.from_config(get_bert_config(\"base\"))\n",
    "prepare_bert_for_quantization(ternary_bert)\n",
    "\n",
    "models = {\n",
    "    \"BERT\\\\textsubscript{BASE}\": AutoModelForSequenceClassification.from_config(get_bert_config(\"base\")),\n",
    "    \"BERT\\\\textsubscript{KD4}\": AutoModelForSequenceClassification.from_config(get_bert_config(\"TinyBERT\")),\n",
    "    \"BERT\\\\textsubscript{MEDIUM}\": AutoModelForSequenceClassification.from_config(get_bert_config(\"medium\")),\n",
    "    \"BERT\\\\textsubscript{SMALL}\": AutoModelForSequenceClassification.from_config(get_bert_config(\"small\")),\n",
    "    \"TernaryBERT\": ternary_bert,\n",
    "}"
   ]
  },
  {
   "cell_type": "code",
   "execution_count": 5,
   "metadata": {},
   "outputs": [],
   "source": [
    "import torch\n",
    "from modeling.quantization import QuantizedEmbedding, QuantizedLinear\n",
    "\n",
    "def calculate_memory(module):\n",
    "    if isinstance(module,QuantizedEmbedding):\n",
    "        return module.weight.numel()*2/8+module.weight.shape[0]*32\n",
    "    elif isinstance(module,QuantizedLinear):\n",
    "        return module.weight.numel()*2/8+4+module.bias.numel()*4\n",
    "    else:\n",
    "        size = sum([p.element_size()*p.numel() for p in module.parameters(recurse=False)])\n",
    "        for child_module in module.children():\n",
    "            size += calculate_memory(child_module)\n",
    "    #size_in_bytes = sum([p.element_size()*p.numel() for p in module.parameters()])\n",
    "    return size"
   ]
  },
  {
   "cell_type": "code",
   "execution_count": 6,
   "metadata": {},
   "outputs": [
    {
     "name": "stdout",
     "output_type": "stream",
     "text": [
      "BERT\\textsubscript{BASE}: 109.5M, 437.9 MB, 358.0 GFLOPs\n",
      "BERT\\textsubscript{KD4}: 14.4M, 57.4 MB, 20.0 GFLOPs\n",
      "BERT\\textsubscript{MEDIUM}: 41.4M, 165.5 MB, 107.6 GFLOPs\n",
      "BERT\\textsubscript{SMALL}: 28.8M, 115.1 MB, 53.8 GFLOPs\n",
      "TernaryBERT: 109.5M, 30.3 MB, 0.0 GFLOPs\n"
     ]
    }
   ],
   "source": [
    "from contextlib import redirect_stderr\n",
    "from fvcore.nn import FlopCountAnalysis\n",
    "import io\n",
    "f = io.StringIO()\n",
    "with redirect_stderr(f):\n",
    "    for name,model in models.items():\n",
    "        num_params = sum([p.numel() for p in model.parameters()])\n",
    "        if name not in [\"TernaryBERT\"]:\n",
    "            flops = FlopCountAnalysis(model, 100*torch.ones((32,128)).long()).total()\n",
    "        else:\n",
    "            flops = 0\n",
    "        print(f\"{name}: {num_params/1e6:.1f}M, {calculate_memory(model)/1e6:.1f} MB, {flops/1e9:.1f} GFLOPs\")"
   ]
  },
  {
   "cell_type": "code",
   "execution_count": 63,
   "metadata": {},
   "outputs": [],
   "source": [
    "import time\n",
    "import tqdm\n",
    "import numpy as np\n",
    "\n",
    "def time_model(model):\n",
    "    input_batch = 100*torch.ones((32,128)).long()\n",
    "    device = torch.device(\"cuda:2\")\n",
    "    input_batch = input_batch.to(device)\n",
    "    model = model.to(device) \n",
    "    times = []\n",
    "    with torch.no_grad():\n",
    "        start = torch.cuda.Event(enable_timing=True)\n",
    "        end = torch.cuda.Event(enable_timing=True)\n",
    "        for i in tqdm.tqdm(range(50)):\n",
    "            \n",
    "            time.sleep(1)\n",
    "            # start_time = time.time()\n",
    "            # print(res.logits.sum())\n",
    "            # times.append(time.time()-start_time)\n",
    "\n",
    "            start.record()\n",
    "            res = model(input_batch)\n",
    "            x = res.logits.sum().item()\n",
    "            end.record()\n",
    "\n",
    "            # Waits for everything to finish running\n",
    "            torch.cuda.synchronize()\n",
    "\n",
    "            times.append(start.elapsed_time(end))\n",
    "    \n",
    "    print(f\"{np.mean(times):.1f} ± {np.std(times):.1f} ms\")\n",
    "    return times, np.mean(times), np.std(times)"
   ]
  },
  {
   "cell_type": "code",
   "execution_count": 64,
   "metadata": {},
   "outputs": [
    {
     "name": "stdout",
     "output_type": "stream",
     "text": [
      "BERT\\textsubscript{BASE}\n"
     ]
    },
    {
     "name": "stderr",
     "output_type": "stream",
     "text": [
      "100%|██████████| 50/50 [00:59<00:00,  1.18s/it]\n"
     ]
    },
    {
     "name": "stdout",
     "output_type": "stream",
     "text": [
      "178.1 ± 4.7 ms\n",
      "BERT\\textsubscript{KD4}\n"
     ]
    },
    {
     "name": "stderr",
     "output_type": "stream",
     "text": [
      "100%|██████████| 50/50 [00:50<00:00,  1.02s/it]\n"
     ]
    },
    {
     "name": "stdout",
     "output_type": "stream",
     "text": [
      "16.9 ± 0.9 ms\n",
      "BERT\\textsubscript{MEDIUM}\n"
     ]
    },
    {
     "name": "stderr",
     "output_type": "stream",
     "text": [
      "100%|██████████| 50/50 [00:52<00:00,  1.06s/it]\n"
     ]
    },
    {
     "name": "stdout",
     "output_type": "stream",
     "text": [
      "53.6 ± 0.9 ms\n",
      "BERT\\textsubscript{SMALL}\n"
     ]
    },
    {
     "name": "stderr",
     "output_type": "stream",
     "text": [
      "100%|██████████| 50/50 [00:51<00:00,  1.03s/it]\n"
     ]
    },
    {
     "name": "stdout",
     "output_type": "stream",
     "text": [
      "27.2 ± 0.9 ms\n",
      "TernaryBERT\n"
     ]
    },
    {
     "name": "stderr",
     "output_type": "stream",
     "text": [
      "100%|██████████| 50/50 [01:08<00:00,  1.37s/it]"
     ]
    },
    {
     "name": "stdout",
     "output_type": "stream",
     "text": [
      "370.9 ± 1.2 ms\n"
     ]
    },
    {
     "name": "stderr",
     "output_type": "stream",
     "text": [
      "\n"
     ]
    }
   ],
   "source": [
    "for name,model in models.items():\n",
    "    print(name)\n",
    "    times1,mean,std = time_model(model)\n",
    "# times2,mean,std = time_model(models[\"BERT\\\\textsubscript{MEDIUM}\"])\n",
    "# times3,mean,std = time_model(models[\"BERT\\\\textsubscript{SMALL}\"])"
   ]
  },
  {
   "cell_type": "code",
   "execution_count": null,
   "metadata": {},
   "outputs": [
    {
     "data": {
      "text/plain": [
       "[<matplotlib.lines.Line2D at 0x7f6cd4704a60>]"
      ]
     },
     "execution_count": 50,
     "metadata": {},
     "output_type": "execute_result"
    },
    {
     "data": {
      "image/png": "[encoded data removed]",
      "text/plain": [
       "<Figure size 640x480 with 1 Axes>"
      ]
     },
     "metadata": {},
     "output_type": "display_data"
    }
   ],
   "source": [
    "import matplotlib.pyplot as plt\n",
    "plt.plot(times1)\n",
    "plt.plot(times2)\n",
    "plt.plot(times3)"
   ]
  },
  {
   "cell_type": "code",
   "execution_count": null,
   "metadata": {},
   "outputs": [
    {
     "name": "stdout",
     "output_type": "stream",
     "text": [
      "179.4 ± 3.8 ms\n",
      "54.1818660736084 0.9225729679291232\n",
      "27.792589416503905 0.9957059817415368\n"
     ]
    }
   ],
   "source": [
    "long_times1 = times1\n",
    "long_times2 = times2\n",
    "long_times3 = times3\n",
    "print(f\"{np.mean(times1):.1f} ± {np.std(times1):.1f} ms\")\n",
    "print(np.mean(times2),np.std(times2))\n",
    "print(np.mean(times3),np.std(times3))"
   ]
  },
  {
   "cell_type": "code",
   "execution_count": null,
   "metadata": {},
   "outputs": [],
   "source": []
  }
 ],
 "metadata": {
  "kernelspec": {
   "display_name": "Python 3.9.13 ('torch')",
   "language": "python",
   "name": "python3"
  },
  "language_info": {
   "codemirror_mode": {
    "name": "ipython",
    "version": 3
   },
   "file_extension": ".py",
   "mimetype": "text/x-python",
   "name": "python",
   "nbconvert_exporter": "python",
   "pygments_lexer": "ipython3",
   "version": "3.9.13"
  },
  "orig_nbformat": 4,
  "vscode": {
   "interpreter": {
    "hash": "ab29bdd578247210423fe399e48aecd0ef8b6f86b36785b7520d6025e6beafbf"
   }
  }
 },
 "nbformat": 4,
 "nbformat_minor": 2
}
